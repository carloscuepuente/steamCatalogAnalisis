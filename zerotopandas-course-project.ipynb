{
 "cells": [
  {
   "cell_type": "markdown",
   "metadata": {},
   "source": [
    "# A Steam catalog analysis \n",
    "\n",
    "Course project for [Data Analysis with Python: Zero to Pandas](zerotopandas.com)"
   ]
  },
  {
   "cell_type": "markdown",
   "metadata": {},
   "source": [
    "### How to run the code\n",
    "\n",
    "This is an executable [*Jupyter notebook*](https://jupyter.org) hosted on [Jovian.ml](https://www.jovian.ml), a platform for sharing data science projects. You can run and experiment with the code in a couple of ways: *using free online resources* (recommended) or *on your own computer*.\n",
    "\n",
    "#### Option 1: Running using free online resources (1-click, recommended)\n",
    "\n",
    "The easiest way to start executing this notebook is to click the \"Run\" button at the top of this page, and select \"Run on Binder\". This will run the notebook on [mybinder.org](https://mybinder.org), a free online service for running Jupyter notebooks. You can also select \"Run on Colab\" or \"Run on Kaggle\".\n",
    "\n",
    "\n",
    "#### Option 2: Running on your computer locally\n",
    "\n",
    "1. Install Conda by [following these instructions](https://conda.io/projects/conda/en/latest/user-guide/install/index.html). Add Conda binaries to your system `PATH`, so you can use the `conda` command on your terminal.\n",
    "\n",
    "2. Create a Conda environment and install the required libraries by running these commands on the terminal:\n",
    "\n",
    "```\n",
    "conda create -n zerotopandas -y python=3.8 \n",
    "conda activate zerotopandas\n",
    "pip install jovian jupyter numpy pandas matplotlib seaborn opendatasets --upgrade\n",
    "```\n",
    "\n",
    "3. Press the \"Clone\" button above to copy the command for downloading the notebook, and run it on the terminal. This will create a new directory and download the notebook. The command will look something like this:\n",
    "\n",
    "```\n",
    "jovian clone notebook-owner/notebook-id\n",
    "```\n",
    "\n",
    "\n",
    "\n",
    "4. Enter the newly created directory using `cd directory-name` and start the Jupyter notebook.\n",
    "\n",
    "```\n",
    "jupyter notebook\n",
    "```\n",
    "\n",
    "You can now access Jupyter's web interface by clicking the link that shows up on the terminal or by visiting http://localhost:8888 on your browser. Click on the notebook file (it has a `.ipynb` extension) to open it.\n"
   ]
  },
  {
   "cell_type": "markdown",
   "metadata": {},
   "source": [
    "Let us save and upload our work to Jovian before continuing."
   ]
  },
  {
   "cell_type": "code",
   "execution_count": 67,
   "metadata": {},
   "outputs": [],
   "source": [
    "project_name = \"zerotopandas-course-project-steam-catalog-analysis\" # change this (use lowercase letters and hyphens only)"
   ]
  },
  {
   "cell_type": "code",
   "execution_count": 68,
   "metadata": {},
   "outputs": [],
   "source": [
    "!pip install jovian --upgrade -q"
   ]
  },
  {
   "cell_type": "code",
   "execution_count": 69,
   "metadata": {},
   "outputs": [],
   "source": [
    "import jovian"
   ]
  },
  {
   "cell_type": "code",
   "execution_count": 70,
   "metadata": {},
   "outputs": [
    {
     "data": {
      "application/javascript": [
       "window.require && require([\"base/js/namespace\"],function(Jupyter){Jupyter.notebook.save_checkpoint()})"
      ],
      "text/plain": [
       "<IPython.core.display.Javascript object>"
      ]
     },
     "metadata": {},
     "output_type": "display_data"
    },
    {
     "name": "stdout",
     "output_type": "stream",
     "text": [
      "[jovian] Attempting to save notebook..\u001b[0m\n",
      "[jovian] Updating notebook \"carloscuepuente/zerotopandas-course-project-steam-catalog-analysis\" on https://jovian.ai\u001b[0m\n",
      "[jovian] Uploading notebook..\u001b[0m\n",
      "[jovian] Uploading additional files...\u001b[0m\n",
      "[jovian] Committed successfully! https://jovian.ai/carloscuepuente/zerotopandas-course-project-steam-catalog-analysis\u001b[0m\n"
     ]
    },
    {
     "data": {
      "text/plain": [
       "'https://jovian.ai/carloscuepuente/zerotopandas-course-project-steam-catalog-analysis'"
      ]
     },
     "execution_count": 70,
     "metadata": {},
     "output_type": "execute_result"
    }
   ],
   "source": [
    "jovian.commit(project=project_name)"
   ]
  },
  {
   "cell_type": "markdown",
   "metadata": {},
   "source": [
    "## Data Preparation and Cleaning\n",
    "\n",
    " The original data set is in this url https://www.kaggle.com/nikdavis/steam-store-games?select=steam.csv\n",
    "\n"
   ]
  },
  {
   "cell_type": "markdown",
   "metadata": {},
   "source": [
    "First let's import the libraries that we will use for this project"
   ]
  },
  {
   "cell_type": "code",
   "execution_count": 71,
   "metadata": {},
   "outputs": [],
   "source": [
    "import seaborn as sns\n",
    "import matplotlib\n",
    "import matplotlib.pyplot as plt\n",
    "import pandas as pd\n",
    "import numpy as np\n",
    "%matplotlib inline\n",
    "\n",
    "sns.set_style('darkgrid')\n",
    "matplotlib.rcParams['font.size'] = 14\n",
    "matplotlib.rcParams['figure.figsize'] = (9, 5)\n",
    "matplotlib.rcParams['figure.facecolor'] = '#00000000'"
   ]
  },
  {
   "cell_type": "markdown",
   "metadata": {},
   "source": [
    "Reading the csv file"
   ]
  },
  {
   "cell_type": "code",
   "execution_count": 72,
   "metadata": {},
   "outputs": [],
   "source": [
    "data_raw = pd.read_csv(\"./steam.csv\")"
   ]
  },
  {
   "cell_type": "markdown",
   "metadata": {},
   "source": [
    "## Important description about the data\n",
    "   * appid: Unique identifier for each title/game\n",
    "   * name: Title of app (game)\n",
    "   * release_date: Release date in format YYYY-MM-DD\n",
    "   * english: Language support: 1 if is in English\n",
    "   * developer: Name (or names) of developer(s). Semicolon delimited if multipl\n",
    "   * publisher: Name (or names) of publisher(s). Semicolon delimited if multiple\n",
    "   * platforms: Semicolon delimited list of supported platforms. At most includes: windows;mac;linux\n",
    "   * required_age: Minimum required age according to PEGI UK standards. Many with 0 are unrated or unsupplied\n",
    "   * categories: Semicolon delimited list of game categories, e.g. single-player;multi-player\n",
    "   * genres: Semicolon delimited list of game genres, e.g. action;adventure\n",
    "   * steamspy_tags: Semicolon delimited list of top steamspy game tags, similar to genres but community voted\n",
    "   * achievements: Number of in-games achievements, if any\n",
    "   * positive_ratings: Number of positive ratings, from SteamSpy\n",
    "   * negative_ratings: Number of negative ratings, from SteamSpy\n",
    "   * average_playtime: Average user playtime, from SteamSpy\n",
    "   * median_playtime: Median user playtime, from SteamSpy\n",
    "   * owners: Estimated number of owners. Contains lower and upper bound (like 20000-50000). May wish to take mid-point or lower\n",
    "   * price: Current full price of title in GBP, (pounds sterling)"
   ]
  },
  {
   "cell_type": "code",
   "execution_count": 73,
   "metadata": {},
   "outputs": [
    {
     "data": {
      "text/html": [
       "<div>\n",
       "<style scoped>\n",
       "    .dataframe tbody tr th:only-of-type {\n",
       "        vertical-align: middle;\n",
       "    }\n",
       "\n",
       "    .dataframe tbody tr th {\n",
       "        vertical-align: top;\n",
       "    }\n",
       "\n",
       "    .dataframe thead th {\n",
       "        text-align: right;\n",
       "    }\n",
       "</style>\n",
       "<table border=\"1\" class=\"dataframe\">\n",
       "  <thead>\n",
       "    <tr style=\"text-align: right;\">\n",
       "      <th></th>\n",
       "      <th>appid</th>\n",
       "      <th>name</th>\n",
       "      <th>release_date</th>\n",
       "      <th>english</th>\n",
       "      <th>developer</th>\n",
       "      <th>publisher</th>\n",
       "      <th>platforms</th>\n",
       "      <th>required_age</th>\n",
       "      <th>categories</th>\n",
       "      <th>genres</th>\n",
       "      <th>steamspy_tags</th>\n",
       "      <th>achievements</th>\n",
       "      <th>positive_ratings</th>\n",
       "      <th>negative_ratings</th>\n",
       "      <th>average_playtime</th>\n",
       "      <th>median_playtime</th>\n",
       "      <th>owners</th>\n",
       "      <th>price</th>\n",
       "    </tr>\n",
       "  </thead>\n",
       "  <tbody>\n",
       "    <tr>\n",
       "      <th>0</th>\n",
       "      <td>10</td>\n",
       "      <td>Counter-Strike</td>\n",
       "      <td>2000-11-01</td>\n",
       "      <td>1</td>\n",
       "      <td>Valve</td>\n",
       "      <td>Valve</td>\n",
       "      <td>windows;mac;linux</td>\n",
       "      <td>0</td>\n",
       "      <td>Multi-player;Online Multi-Player;Local Multi-P...</td>\n",
       "      <td>Action</td>\n",
       "      <td>Action;FPS;Multiplayer</td>\n",
       "      <td>0</td>\n",
       "      <td>124534</td>\n",
       "      <td>3339</td>\n",
       "      <td>17612</td>\n",
       "      <td>317</td>\n",
       "      <td>10000000-20000000</td>\n",
       "      <td>7.19</td>\n",
       "    </tr>\n",
       "    <tr>\n",
       "      <th>1</th>\n",
       "      <td>20</td>\n",
       "      <td>Team Fortress Classic</td>\n",
       "      <td>1999-04-01</td>\n",
       "      <td>1</td>\n",
       "      <td>Valve</td>\n",
       "      <td>Valve</td>\n",
       "      <td>windows;mac;linux</td>\n",
       "      <td>0</td>\n",
       "      <td>Multi-player;Online Multi-Player;Local Multi-P...</td>\n",
       "      <td>Action</td>\n",
       "      <td>Action;FPS;Multiplayer</td>\n",
       "      <td>0</td>\n",
       "      <td>3318</td>\n",
       "      <td>633</td>\n",
       "      <td>277</td>\n",
       "      <td>62</td>\n",
       "      <td>5000000-10000000</td>\n",
       "      <td>3.99</td>\n",
       "    </tr>\n",
       "    <tr>\n",
       "      <th>2</th>\n",
       "      <td>30</td>\n",
       "      <td>Day of Defeat</td>\n",
       "      <td>2003-05-01</td>\n",
       "      <td>1</td>\n",
       "      <td>Valve</td>\n",
       "      <td>Valve</td>\n",
       "      <td>windows;mac;linux</td>\n",
       "      <td>0</td>\n",
       "      <td>Multi-player;Valve Anti-Cheat enabled</td>\n",
       "      <td>Action</td>\n",
       "      <td>FPS;World War II;Multiplayer</td>\n",
       "      <td>0</td>\n",
       "      <td>3416</td>\n",
       "      <td>398</td>\n",
       "      <td>187</td>\n",
       "      <td>34</td>\n",
       "      <td>5000000-10000000</td>\n",
       "      <td>3.99</td>\n",
       "    </tr>\n",
       "    <tr>\n",
       "      <th>3</th>\n",
       "      <td>40</td>\n",
       "      <td>Deathmatch Classic</td>\n",
       "      <td>2001-06-01</td>\n",
       "      <td>1</td>\n",
       "      <td>Valve</td>\n",
       "      <td>Valve</td>\n",
       "      <td>windows;mac;linux</td>\n",
       "      <td>0</td>\n",
       "      <td>Multi-player;Online Multi-Player;Local Multi-P...</td>\n",
       "      <td>Action</td>\n",
       "      <td>Action;FPS;Multiplayer</td>\n",
       "      <td>0</td>\n",
       "      <td>1273</td>\n",
       "      <td>267</td>\n",
       "      <td>258</td>\n",
       "      <td>184</td>\n",
       "      <td>5000000-10000000</td>\n",
       "      <td>3.99</td>\n",
       "    </tr>\n",
       "    <tr>\n",
       "      <th>4</th>\n",
       "      <td>50</td>\n",
       "      <td>Half-Life: Opposing Force</td>\n",
       "      <td>1999-11-01</td>\n",
       "      <td>1</td>\n",
       "      <td>Gearbox Software</td>\n",
       "      <td>Valve</td>\n",
       "      <td>windows;mac;linux</td>\n",
       "      <td>0</td>\n",
       "      <td>Single-player;Multi-player;Valve Anti-Cheat en...</td>\n",
       "      <td>Action</td>\n",
       "      <td>FPS;Action;Sci-fi</td>\n",
       "      <td>0</td>\n",
       "      <td>5250</td>\n",
       "      <td>288</td>\n",
       "      <td>624</td>\n",
       "      <td>415</td>\n",
       "      <td>5000000-10000000</td>\n",
       "      <td>3.99</td>\n",
       "    </tr>\n",
       "  </tbody>\n",
       "</table>\n",
       "</div>"
      ],
      "text/plain": [
       "   appid                       name release_date  english         developer  \\\n",
       "0     10             Counter-Strike   2000-11-01        1             Valve   \n",
       "1     20      Team Fortress Classic   1999-04-01        1             Valve   \n",
       "2     30              Day of Defeat   2003-05-01        1             Valve   \n",
       "3     40         Deathmatch Classic   2001-06-01        1             Valve   \n",
       "4     50  Half-Life: Opposing Force   1999-11-01        1  Gearbox Software   \n",
       "\n",
       "  publisher          platforms  required_age  \\\n",
       "0     Valve  windows;mac;linux             0   \n",
       "1     Valve  windows;mac;linux             0   \n",
       "2     Valve  windows;mac;linux             0   \n",
       "3     Valve  windows;mac;linux             0   \n",
       "4     Valve  windows;mac;linux             0   \n",
       "\n",
       "                                          categories  genres  \\\n",
       "0  Multi-player;Online Multi-Player;Local Multi-P...  Action   \n",
       "1  Multi-player;Online Multi-Player;Local Multi-P...  Action   \n",
       "2              Multi-player;Valve Anti-Cheat enabled  Action   \n",
       "3  Multi-player;Online Multi-Player;Local Multi-P...  Action   \n",
       "4  Single-player;Multi-player;Valve Anti-Cheat en...  Action   \n",
       "\n",
       "                  steamspy_tags  achievements  positive_ratings  \\\n",
       "0        Action;FPS;Multiplayer             0            124534   \n",
       "1        Action;FPS;Multiplayer             0              3318   \n",
       "2  FPS;World War II;Multiplayer             0              3416   \n",
       "3        Action;FPS;Multiplayer             0              1273   \n",
       "4             FPS;Action;Sci-fi             0              5250   \n",
       "\n",
       "   negative_ratings  average_playtime  median_playtime             owners  \\\n",
       "0              3339             17612              317  10000000-20000000   \n",
       "1               633               277               62   5000000-10000000   \n",
       "2               398               187               34   5000000-10000000   \n",
       "3               267               258              184   5000000-10000000   \n",
       "4               288               624              415   5000000-10000000   \n",
       "\n",
       "   price  \n",
       "0   7.19  \n",
       "1   3.99  \n",
       "2   3.99  \n",
       "3   3.99  \n",
       "4   3.99  "
      ]
     },
     "execution_count": 73,
     "metadata": {},
     "output_type": "execute_result"
    }
   ],
   "source": [
    "data_raw.head()"
   ]
  },
  {
   "cell_type": "markdown",
   "metadata": {},
   "source": [
    "The code `df.info()` give us important information about the dataframe `df` that we are going to be using in this project.\n",
    "It appears that the `df`has 27075 rows and 18 columns, and no non null values"
   ]
  },
  {
   "cell_type": "code",
   "execution_count": 74,
   "metadata": {},
   "outputs": [
    {
     "name": "stdout",
     "output_type": "stream",
     "text": [
      "<class 'pandas.core.frame.DataFrame'>\n",
      "RangeIndex: 27075 entries, 0 to 27074\n",
      "Data columns (total 18 columns):\n",
      " #   Column            Non-Null Count  Dtype  \n",
      "---  ------            --------------  -----  \n",
      " 0   appid             27075 non-null  int64  \n",
      " 1   name              27075 non-null  object \n",
      " 2   release_date      27075 non-null  object \n",
      " 3   english           27075 non-null  int64  \n",
      " 4   developer         27075 non-null  object \n",
      " 5   publisher         27075 non-null  object \n",
      " 6   platforms         27075 non-null  object \n",
      " 7   required_age      27075 non-null  int64  \n",
      " 8   categories        27075 non-null  object \n",
      " 9   genres            27075 non-null  object \n",
      " 10  steamspy_tags     27075 non-null  object \n",
      " 11  achievements      27075 non-null  int64  \n",
      " 12  positive_ratings  27075 non-null  int64  \n",
      " 13  negative_ratings  27075 non-null  int64  \n",
      " 14  average_playtime  27075 non-null  int64  \n",
      " 15  median_playtime   27075 non-null  int64  \n",
      " 16  owners            27075 non-null  object \n",
      " 17  price             27075 non-null  float64\n",
      "dtypes: float64(1), int64(8), object(9)\n",
      "memory usage: 3.7+ MB\n"
     ]
    }
   ],
   "source": [
    "data_raw.info()"
   ]
  },
  {
   "cell_type": "markdown",
   "metadata": {},
   "source": [
    "After readding the `df`it is only recognicing 9 out of 18 columns as numerical values."
   ]
  },
  {
   "cell_type": "code",
   "execution_count": 75,
   "metadata": {},
   "outputs": [
    {
     "data": {
      "text/html": [
       "<div>\n",
       "<style scoped>\n",
       "    .dataframe tbody tr th:only-of-type {\n",
       "        vertical-align: middle;\n",
       "    }\n",
       "\n",
       "    .dataframe tbody tr th {\n",
       "        vertical-align: top;\n",
       "    }\n",
       "\n",
       "    .dataframe thead th {\n",
       "        text-align: right;\n",
       "    }\n",
       "</style>\n",
       "<table border=\"1\" class=\"dataframe\">\n",
       "  <thead>\n",
       "    <tr style=\"text-align: right;\">\n",
       "      <th></th>\n",
       "      <th>appid</th>\n",
       "      <th>english</th>\n",
       "      <th>required_age</th>\n",
       "      <th>achievements</th>\n",
       "      <th>positive_ratings</th>\n",
       "      <th>negative_ratings</th>\n",
       "      <th>average_playtime</th>\n",
       "      <th>median_playtime</th>\n",
       "      <th>price</th>\n",
       "    </tr>\n",
       "  </thead>\n",
       "  <tbody>\n",
       "    <tr>\n",
       "      <th>count</th>\n",
       "      <td>2.707500e+04</td>\n",
       "      <td>27075.000000</td>\n",
       "      <td>27075.000000</td>\n",
       "      <td>27075.000000</td>\n",
       "      <td>2.707500e+04</td>\n",
       "      <td>27075.000000</td>\n",
       "      <td>27075.000000</td>\n",
       "      <td>27075.00000</td>\n",
       "      <td>27075.000000</td>\n",
       "    </tr>\n",
       "    <tr>\n",
       "      <th>mean</th>\n",
       "      <td>5.962035e+05</td>\n",
       "      <td>0.981127</td>\n",
       "      <td>0.354903</td>\n",
       "      <td>45.248864</td>\n",
       "      <td>1.000559e+03</td>\n",
       "      <td>211.027147</td>\n",
       "      <td>149.804949</td>\n",
       "      <td>146.05603</td>\n",
       "      <td>6.078193</td>\n",
       "    </tr>\n",
       "    <tr>\n",
       "      <th>std</th>\n",
       "      <td>2.508942e+05</td>\n",
       "      <td>0.136081</td>\n",
       "      <td>2.406044</td>\n",
       "      <td>352.670281</td>\n",
       "      <td>1.898872e+04</td>\n",
       "      <td>4284.938531</td>\n",
       "      <td>1827.038141</td>\n",
       "      <td>2353.88008</td>\n",
       "      <td>7.874922</td>\n",
       "    </tr>\n",
       "    <tr>\n",
       "      <th>min</th>\n",
       "      <td>1.000000e+01</td>\n",
       "      <td>0.000000</td>\n",
       "      <td>0.000000</td>\n",
       "      <td>0.000000</td>\n",
       "      <td>0.000000e+00</td>\n",
       "      <td>0.000000</td>\n",
       "      <td>0.000000</td>\n",
       "      <td>0.00000</td>\n",
       "      <td>0.000000</td>\n",
       "    </tr>\n",
       "    <tr>\n",
       "      <th>25%</th>\n",
       "      <td>4.012300e+05</td>\n",
       "      <td>1.000000</td>\n",
       "      <td>0.000000</td>\n",
       "      <td>0.000000</td>\n",
       "      <td>6.000000e+00</td>\n",
       "      <td>2.000000</td>\n",
       "      <td>0.000000</td>\n",
       "      <td>0.00000</td>\n",
       "      <td>1.690000</td>\n",
       "    </tr>\n",
       "    <tr>\n",
       "      <th>50%</th>\n",
       "      <td>5.990700e+05</td>\n",
       "      <td>1.000000</td>\n",
       "      <td>0.000000</td>\n",
       "      <td>7.000000</td>\n",
       "      <td>2.400000e+01</td>\n",
       "      <td>9.000000</td>\n",
       "      <td>0.000000</td>\n",
       "      <td>0.00000</td>\n",
       "      <td>3.990000</td>\n",
       "    </tr>\n",
       "    <tr>\n",
       "      <th>75%</th>\n",
       "      <td>7.987600e+05</td>\n",
       "      <td>1.000000</td>\n",
       "      <td>0.000000</td>\n",
       "      <td>23.000000</td>\n",
       "      <td>1.260000e+02</td>\n",
       "      <td>42.000000</td>\n",
       "      <td>0.000000</td>\n",
       "      <td>0.00000</td>\n",
       "      <td>7.190000</td>\n",
       "    </tr>\n",
       "    <tr>\n",
       "      <th>max</th>\n",
       "      <td>1.069460e+06</td>\n",
       "      <td>1.000000</td>\n",
       "      <td>18.000000</td>\n",
       "      <td>9821.000000</td>\n",
       "      <td>2.644404e+06</td>\n",
       "      <td>487076.000000</td>\n",
       "      <td>190625.000000</td>\n",
       "      <td>190625.00000</td>\n",
       "      <td>421.990000</td>\n",
       "    </tr>\n",
       "  </tbody>\n",
       "</table>\n",
       "</div>"
      ],
      "text/plain": [
       "              appid       english  required_age  achievements  \\\n",
       "count  2.707500e+04  27075.000000  27075.000000  27075.000000   \n",
       "mean   5.962035e+05      0.981127      0.354903     45.248864   \n",
       "std    2.508942e+05      0.136081      2.406044    352.670281   \n",
       "min    1.000000e+01      0.000000      0.000000      0.000000   \n",
       "25%    4.012300e+05      1.000000      0.000000      0.000000   \n",
       "50%    5.990700e+05      1.000000      0.000000      7.000000   \n",
       "75%    7.987600e+05      1.000000      0.000000     23.000000   \n",
       "max    1.069460e+06      1.000000     18.000000   9821.000000   \n",
       "\n",
       "       positive_ratings  negative_ratings  average_playtime  median_playtime  \\\n",
       "count      2.707500e+04      27075.000000      27075.000000      27075.00000   \n",
       "mean       1.000559e+03        211.027147        149.804949        146.05603   \n",
       "std        1.898872e+04       4284.938531       1827.038141       2353.88008   \n",
       "min        0.000000e+00          0.000000          0.000000          0.00000   \n",
       "25%        6.000000e+00          2.000000          0.000000          0.00000   \n",
       "50%        2.400000e+01          9.000000          0.000000          0.00000   \n",
       "75%        1.260000e+02         42.000000          0.000000          0.00000   \n",
       "max        2.644404e+06     487076.000000     190625.000000     190625.00000   \n",
       "\n",
       "              price  \n",
       "count  27075.000000  \n",
       "mean       6.078193  \n",
       "std        7.874922  \n",
       "min        0.000000  \n",
       "25%        1.690000  \n",
       "50%        3.990000  \n",
       "75%        7.190000  \n",
       "max      421.990000  "
      ]
     },
     "execution_count": 75,
     "metadata": {},
     "output_type": "execute_result"
    }
   ],
   "source": [
    "data_raw.describe()"
   ]
  },
  {
   "cell_type": "markdown",
   "metadata": {},
   "source": [
    "The appid is a unique value for each tittle of the steam catalog, lets place it as the index for the `df`"
   ]
  },
  {
   "cell_type": "code",
   "execution_count": 76,
   "metadata": {},
   "outputs": [],
   "source": [
    "data_raw.set_index(\"appid\",inplace=True)"
   ]
  },
  {
   "cell_type": "markdown",
   "metadata": {},
   "source": [
    "The platforms column is an interesting one to work with, lets see how many unique platforms are in this dataset"
   ]
  },
  {
   "cell_type": "code",
   "execution_count": 77,
   "metadata": {},
   "outputs": [
    {
     "data": {
      "text/plain": [
       "array(['windows;mac;linux', 'windows;mac', 'windows', 'windows;linux',\n",
       "       'mac', 'mac;linux', 'linux'], dtype=object)"
      ]
     },
     "execution_count": 77,
     "metadata": {},
     "output_type": "execute_result"
    }
   ],
   "source": [
    "data_raw.platforms.unique()"
   ]
  },
  {
   "cell_type": "markdown",
   "metadata": {},
   "source": [
    "There are 7 unique entries in the platforms column, they are **;** separated. Since they are easy to read and offer sufficient information we can safely use them as a categorical column"
   ]
  },
  {
   "cell_type": "markdown",
   "metadata": {},
   "source": [
    "### The categories column\n",
    "This column is a tricky one, lets see how it looks, how many unique entries are, etc"
   ]
  },
  {
   "cell_type": "code",
   "execution_count": 78,
   "metadata": {},
   "outputs": [
    {
     "data": {
      "text/plain": [
       "3333"
      ]
     },
     "execution_count": 78,
     "metadata": {},
     "output_type": "execute_result"
    }
   ],
   "source": [
    "len(data_raw.categories.unique().tolist())"
   ]
  },
  {
   "cell_type": "markdown",
   "metadata": {},
   "source": [
    "There are **3333** unique entries in the categorie column, now lets take a sample out of them to explore a little bit more"
   ]
  },
  {
   "cell_type": "code",
   "execution_count": 79,
   "metadata": {},
   "outputs": [
    {
     "data": {
      "text/plain": [
       "appid\n",
       "739170                     Single-player;Steam Achievements\n",
       "869870         Single-player;Steam Achievements;Steam Cloud\n",
       "665090    Single-player;Steam Achievements;Full controll...\n",
       "332730    Multi-player;Steam Achievements;Steam Trading ...\n",
       "617060    Single-player;Steam Achievements;Steam Leaderb...\n",
       "539700    Single-player;Steam Achievements;Full controll...\n",
       "959520                            Single-player;Steam Cloud\n",
       "711990        Single-player;Steam Trading Cards;Steam Cloud\n",
       "230150                                        Single-player\n",
       "860890                            Single-player;Steam Cloud\n",
       "Name: categories, dtype: object"
      ]
     },
     "execution_count": 79,
     "metadata": {},
     "output_type": "execute_result"
    }
   ],
   "source": [
    "data_raw[\"categories\"].sample(10)"
   ]
  },
  {
   "cell_type": "markdown",
   "metadata": {},
   "source": [
    "We can see from the random sample, that in the categorie column, all the values are semicolon separeted, and have valuable information about, how many player can play the game, and also other feactures about some games, for instance, if it have controller support or virtual reality etc. In my case i´m more interested in find out about single and multiplayer games."
   ]
  },
  {
   "cell_type": "markdown",
   "metadata": {},
   "source": [
    "So my aim is to transform this column to reflect that. And categorize the steam catalog only in terms of how many player the game soports. For this i´m going to create a function to do that, and apply it to every element in the column"
   ]
  },
  {
   "cell_type": "markdown",
   "metadata": {},
   "source": [
    "But first i have to narrow down the search, to a couple of well know types of games in the video game industry"
   ]
  },
  {
   "cell_type": "code",
   "execution_count": 80,
   "metadata": {},
   "outputs": [],
   "source": [
    "main_categories = data_raw.categories\n",
    "main_categories = pd.DataFrame(main_categories.str.findall(\"Multi-player|Single-player|MMO|Online Multi-Player|Online Co-op|Multi|Shared/Split Screen\"))"
   ]
  },
  {
   "cell_type": "markdown",
   "metadata": {},
   "source": [
    "The method `str.findall` of the most common categories, returns a list with the coinicidences on the categories column of our dataframe. Lets take a look of the result"
   ]
  },
  {
   "cell_type": "code",
   "execution_count": 81,
   "metadata": {},
   "outputs": [
    {
     "data": {
      "text/html": [
       "<div>\n",
       "<style scoped>\n",
       "    .dataframe tbody tr th:only-of-type {\n",
       "        vertical-align: middle;\n",
       "    }\n",
       "\n",
       "    .dataframe tbody tr th {\n",
       "        vertical-align: top;\n",
       "    }\n",
       "\n",
       "    .dataframe thead th {\n",
       "        text-align: right;\n",
       "    }\n",
       "</style>\n",
       "<table border=\"1\" class=\"dataframe\">\n",
       "  <thead>\n",
       "    <tr style=\"text-align: right;\">\n",
       "      <th></th>\n",
       "      <th>categories</th>\n",
       "    </tr>\n",
       "    <tr>\n",
       "      <th>appid</th>\n",
       "      <th></th>\n",
       "    </tr>\n",
       "  </thead>\n",
       "  <tbody>\n",
       "    <tr>\n",
       "      <th>10</th>\n",
       "      <td>[Multi-player, Online Multi-Player, Multi]</td>\n",
       "    </tr>\n",
       "    <tr>\n",
       "      <th>20</th>\n",
       "      <td>[Multi-player, Online Multi-Player, Multi]</td>\n",
       "    </tr>\n",
       "    <tr>\n",
       "      <th>30</th>\n",
       "      <td>[Multi-player]</td>\n",
       "    </tr>\n",
       "    <tr>\n",
       "      <th>40</th>\n",
       "      <td>[Multi-player, Online Multi-Player, Multi]</td>\n",
       "    </tr>\n",
       "    <tr>\n",
       "      <th>50</th>\n",
       "      <td>[Single-player, Multi-player]</td>\n",
       "    </tr>\n",
       "    <tr>\n",
       "      <th>...</th>\n",
       "      <td>...</td>\n",
       "    </tr>\n",
       "    <tr>\n",
       "      <th>1065230</th>\n",
       "      <td>[Single-player]</td>\n",
       "    </tr>\n",
       "    <tr>\n",
       "      <th>1065570</th>\n",
       "      <td>[Single-player]</td>\n",
       "    </tr>\n",
       "    <tr>\n",
       "      <th>1065650</th>\n",
       "      <td>[Single-player, Multi-player, Shared/Split Scr...</td>\n",
       "    </tr>\n",
       "    <tr>\n",
       "      <th>1066700</th>\n",
       "      <td>[Single-player]</td>\n",
       "    </tr>\n",
       "    <tr>\n",
       "      <th>1069460</th>\n",
       "      <td>[Single-player]</td>\n",
       "    </tr>\n",
       "  </tbody>\n",
       "</table>\n",
       "<p>27075 rows × 1 columns</p>\n",
       "</div>"
      ],
      "text/plain": [
       "                                                categories\n",
       "appid                                                     \n",
       "10              [Multi-player, Online Multi-Player, Multi]\n",
       "20              [Multi-player, Online Multi-Player, Multi]\n",
       "30                                          [Multi-player]\n",
       "40              [Multi-player, Online Multi-Player, Multi]\n",
       "50                           [Single-player, Multi-player]\n",
       "...                                                    ...\n",
       "1065230                                    [Single-player]\n",
       "1065570                                    [Single-player]\n",
       "1065650  [Single-player, Multi-player, Shared/Split Scr...\n",
       "1066700                                    [Single-player]\n",
       "1069460                                    [Single-player]\n",
       "\n",
       "[27075 rows x 1 columns]"
      ]
     },
     "execution_count": 81,
     "metadata": {},
     "output_type": "execute_result"
    }
   ],
   "source": [
    "main_categories"
   ]
  },
  {
   "cell_type": "markdown",
   "metadata": {},
   "source": [
    "Now we already know what the input information for our funtion. The logic behind it is very simple, everything that can be played by one or more people is going to be categoriced as \"Single & Multi-player\". Everything else is going to be ether pure single player or pure multiplayer. And as a willd card a No categorie, for the entries that doesnt fall in neither categorie."
   ]
  },
  {
   "cell_type": "code",
   "execution_count": 82,
   "metadata": {},
   "outputs": [],
   "source": [
    "def clasificador2(lista):\n",
    "    string =\"\"\n",
    "    for i in lista:\n",
    "         string += i\n",
    "    if \"multi\" in string.lower() and \"single\" in string.lower():\n",
    "        return \"Single & Multi-player\"\n",
    "    elif \"single\" in string.lower() and \"mmo\" in string.lower():\n",
    "        return \"Single & Multi-player\"\n",
    "    elif \"single\" in string.lower() and \"co-op\" in string.lower():\n",
    "        return \"Single & Multi-player\"\n",
    "    elif \"single\" in string.lower() and \"shared\" in string.lower():\n",
    "        return \"Single & Multi-player\"\n",
    "    elif \"single\" in string.lower():\n",
    "        return \"Single-player\"\n",
    "    elif \"multi\" in string.lower():\n",
    "        return \"Multi-player\"\n",
    "    elif \"mmo\" in string.lower():\n",
    "        return \"Multi-player\"\n",
    "    elif \"shared\" in string.lower():\n",
    "        return \"Multi-player\"\n",
    "    else:\n",
    "        return \"No categorie\""
   ]
  },
  {
   "cell_type": "code",
   "execution_count": 83,
   "metadata": {},
   "outputs": [
    {
     "data": {
      "text/html": [
       "<div>\n",
       "<style scoped>\n",
       "    .dataframe tbody tr th:only-of-type {\n",
       "        vertical-align: middle;\n",
       "    }\n",
       "\n",
       "    .dataframe tbody tr th {\n",
       "        vertical-align: top;\n",
       "    }\n",
       "\n",
       "    .dataframe thead th {\n",
       "        text-align: right;\n",
       "    }\n",
       "</style>\n",
       "<table border=\"1\" class=\"dataframe\">\n",
       "  <thead>\n",
       "    <tr style=\"text-align: right;\">\n",
       "      <th></th>\n",
       "      <th>categories</th>\n",
       "    </tr>\n",
       "    <tr>\n",
       "      <th>appid</th>\n",
       "      <th></th>\n",
       "    </tr>\n",
       "  </thead>\n",
       "  <tbody>\n",
       "    <tr>\n",
       "      <th>10</th>\n",
       "      <td>Multi-player</td>\n",
       "    </tr>\n",
       "    <tr>\n",
       "      <th>20</th>\n",
       "      <td>Multi-player</td>\n",
       "    </tr>\n",
       "    <tr>\n",
       "      <th>30</th>\n",
       "      <td>Multi-player</td>\n",
       "    </tr>\n",
       "    <tr>\n",
       "      <th>40</th>\n",
       "      <td>Multi-player</td>\n",
       "    </tr>\n",
       "    <tr>\n",
       "      <th>50</th>\n",
       "      <td>Single &amp; Multi-player</td>\n",
       "    </tr>\n",
       "  </tbody>\n",
       "</table>\n",
       "</div>"
      ],
      "text/plain": [
       "                  categories\n",
       "appid                       \n",
       "10              Multi-player\n",
       "20              Multi-player\n",
       "30              Multi-player\n",
       "40              Multi-player\n",
       "50     Single & Multi-player"
      ]
     },
     "execution_count": 83,
     "metadata": {},
     "output_type": "execute_result"
    }
   ],
   "source": [
    "main_categories = main_categories.applymap(clasificador2)\n",
    "main_categories.head()"
   ]
  },
  {
   "cell_type": "code",
   "execution_count": 84,
   "metadata": {},
   "outputs": [
    {
     "data": {
      "text/html": [
       "<div>\n",
       "<style scoped>\n",
       "    .dataframe tbody tr th:only-of-type {\n",
       "        vertical-align: middle;\n",
       "    }\n",
       "\n",
       "    .dataframe tbody tr th {\n",
       "        vertical-align: top;\n",
       "    }\n",
       "\n",
       "    .dataframe thead th {\n",
       "        text-align: right;\n",
       "    }\n",
       "</style>\n",
       "<table border=\"1\" class=\"dataframe\">\n",
       "  <thead>\n",
       "    <tr style=\"text-align: right;\">\n",
       "      <th></th>\n",
       "      <th>name</th>\n",
       "      <th>release_date</th>\n",
       "      <th>english</th>\n",
       "      <th>developer</th>\n",
       "      <th>publisher</th>\n",
       "      <th>platforms</th>\n",
       "      <th>required_age</th>\n",
       "      <th>categories</th>\n",
       "      <th>genres</th>\n",
       "      <th>steamspy_tags</th>\n",
       "      <th>achievements</th>\n",
       "      <th>positive_ratings</th>\n",
       "      <th>negative_ratings</th>\n",
       "      <th>average_playtime</th>\n",
       "      <th>median_playtime</th>\n",
       "      <th>owners</th>\n",
       "      <th>price</th>\n",
       "    </tr>\n",
       "    <tr>\n",
       "      <th>appid</th>\n",
       "      <th></th>\n",
       "      <th></th>\n",
       "      <th></th>\n",
       "      <th></th>\n",
       "      <th></th>\n",
       "      <th></th>\n",
       "      <th></th>\n",
       "      <th></th>\n",
       "      <th></th>\n",
       "      <th></th>\n",
       "      <th></th>\n",
       "      <th></th>\n",
       "      <th></th>\n",
       "      <th></th>\n",
       "      <th></th>\n",
       "      <th></th>\n",
       "      <th></th>\n",
       "    </tr>\n",
       "  </thead>\n",
       "  <tbody>\n",
       "    <tr>\n",
       "      <th>10</th>\n",
       "      <td>Counter-Strike</td>\n",
       "      <td>2000-11-01</td>\n",
       "      <td>1</td>\n",
       "      <td>Valve</td>\n",
       "      <td>Valve</td>\n",
       "      <td>windows;mac;linux</td>\n",
       "      <td>0</td>\n",
       "      <td>Multi-player</td>\n",
       "      <td>Action</td>\n",
       "      <td>Action;FPS;Multiplayer</td>\n",
       "      <td>0</td>\n",
       "      <td>124534</td>\n",
       "      <td>3339</td>\n",
       "      <td>17612</td>\n",
       "      <td>317</td>\n",
       "      <td>10000000-20000000</td>\n",
       "      <td>7.19</td>\n",
       "    </tr>\n",
       "    <tr>\n",
       "      <th>20</th>\n",
       "      <td>Team Fortress Classic</td>\n",
       "      <td>1999-04-01</td>\n",
       "      <td>1</td>\n",
       "      <td>Valve</td>\n",
       "      <td>Valve</td>\n",
       "      <td>windows;mac;linux</td>\n",
       "      <td>0</td>\n",
       "      <td>Multi-player</td>\n",
       "      <td>Action</td>\n",
       "      <td>Action;FPS;Multiplayer</td>\n",
       "      <td>0</td>\n",
       "      <td>3318</td>\n",
       "      <td>633</td>\n",
       "      <td>277</td>\n",
       "      <td>62</td>\n",
       "      <td>5000000-10000000</td>\n",
       "      <td>3.99</td>\n",
       "    </tr>\n",
       "    <tr>\n",
       "      <th>30</th>\n",
       "      <td>Day of Defeat</td>\n",
       "      <td>2003-05-01</td>\n",
       "      <td>1</td>\n",
       "      <td>Valve</td>\n",
       "      <td>Valve</td>\n",
       "      <td>windows;mac;linux</td>\n",
       "      <td>0</td>\n",
       "      <td>Multi-player</td>\n",
       "      <td>Action</td>\n",
       "      <td>FPS;World War II;Multiplayer</td>\n",
       "      <td>0</td>\n",
       "      <td>3416</td>\n",
       "      <td>398</td>\n",
       "      <td>187</td>\n",
       "      <td>34</td>\n",
       "      <td>5000000-10000000</td>\n",
       "      <td>3.99</td>\n",
       "    </tr>\n",
       "    <tr>\n",
       "      <th>40</th>\n",
       "      <td>Deathmatch Classic</td>\n",
       "      <td>2001-06-01</td>\n",
       "      <td>1</td>\n",
       "      <td>Valve</td>\n",
       "      <td>Valve</td>\n",
       "      <td>windows;mac;linux</td>\n",
       "      <td>0</td>\n",
       "      <td>Multi-player</td>\n",
       "      <td>Action</td>\n",
       "      <td>Action;FPS;Multiplayer</td>\n",
       "      <td>0</td>\n",
       "      <td>1273</td>\n",
       "      <td>267</td>\n",
       "      <td>258</td>\n",
       "      <td>184</td>\n",
       "      <td>5000000-10000000</td>\n",
       "      <td>3.99</td>\n",
       "    </tr>\n",
       "    <tr>\n",
       "      <th>50</th>\n",
       "      <td>Half-Life: Opposing Force</td>\n",
       "      <td>1999-11-01</td>\n",
       "      <td>1</td>\n",
       "      <td>Gearbox Software</td>\n",
       "      <td>Valve</td>\n",
       "      <td>windows;mac;linux</td>\n",
       "      <td>0</td>\n",
       "      <td>Single &amp; Multi-player</td>\n",
       "      <td>Action</td>\n",
       "      <td>FPS;Action;Sci-fi</td>\n",
       "      <td>0</td>\n",
       "      <td>5250</td>\n",
       "      <td>288</td>\n",
       "      <td>624</td>\n",
       "      <td>415</td>\n",
       "      <td>5000000-10000000</td>\n",
       "      <td>3.99</td>\n",
       "    </tr>\n",
       "  </tbody>\n",
       "</table>\n",
       "</div>"
      ],
      "text/plain": [
       "                            name release_date  english         developer  \\\n",
       "appid                                                                      \n",
       "10                Counter-Strike   2000-11-01        1             Valve   \n",
       "20         Team Fortress Classic   1999-04-01        1             Valve   \n",
       "30                 Day of Defeat   2003-05-01        1             Valve   \n",
       "40            Deathmatch Classic   2001-06-01        1             Valve   \n",
       "50     Half-Life: Opposing Force   1999-11-01        1  Gearbox Software   \n",
       "\n",
       "      publisher          platforms  required_age             categories  \\\n",
       "appid                                                                     \n",
       "10        Valve  windows;mac;linux             0           Multi-player   \n",
       "20        Valve  windows;mac;linux             0           Multi-player   \n",
       "30        Valve  windows;mac;linux             0           Multi-player   \n",
       "40        Valve  windows;mac;linux             0           Multi-player   \n",
       "50        Valve  windows;mac;linux             0  Single & Multi-player   \n",
       "\n",
       "       genres                 steamspy_tags  achievements  positive_ratings  \\\n",
       "appid                                                                         \n",
       "10     Action        Action;FPS;Multiplayer             0            124534   \n",
       "20     Action        Action;FPS;Multiplayer             0              3318   \n",
       "30     Action  FPS;World War II;Multiplayer             0              3416   \n",
       "40     Action        Action;FPS;Multiplayer             0              1273   \n",
       "50     Action             FPS;Action;Sci-fi             0              5250   \n",
       "\n",
       "       negative_ratings  average_playtime  median_playtime             owners  \\\n",
       "appid                                                                           \n",
       "10                 3339             17612              317  10000000-20000000   \n",
       "20                  633               277               62   5000000-10000000   \n",
       "30                  398               187               34   5000000-10000000   \n",
       "40                  267               258              184   5000000-10000000   \n",
       "50                  288               624              415   5000000-10000000   \n",
       "\n",
       "       price  \n",
       "appid         \n",
       "10      7.19  \n",
       "20      3.99  \n",
       "30      3.99  \n",
       "40      3.99  \n",
       "50      3.99  "
      ]
     },
     "execution_count": 84,
     "metadata": {},
     "output_type": "execute_result"
    }
   ],
   "source": [
    "data_raw[\"categories\"] = main_categories.categories\n",
    "data_raw.head()"
   ]
  },
  {
   "cell_type": "code",
   "execution_count": 85,
   "metadata": {},
   "outputs": [
    {
     "data": {
      "text/plain": [
       "count             27075\n",
       "unique                4\n",
       "top       Single-player\n",
       "freq              20772\n",
       "Name: categories, dtype: object"
      ]
     },
     "execution_count": 85,
     "metadata": {},
     "output_type": "execute_result"
    }
   ],
   "source": [
    "data_raw[\"categories\"].describe()"
   ]
  },
  {
   "cell_type": "markdown",
   "metadata": {},
   "source": [
    "We end up with 4 unique categories"
   ]
  },
  {
   "cell_type": "markdown",
   "metadata": {},
   "source": [
    "### The genre and steamspy_tags"
   ]
  },
  {
   "cell_type": "markdown",
   "metadata": {},
   "source": [
    "For the genre of the games, the dataset has 2 columns that refeer to it. One native of steam, and another one called steamspy_tag, that is similar to the genre column but community voted, so lets take the most voted by the comunity as representation of the genre"
   ]
  },
  {
   "cell_type": "code",
   "execution_count": 86,
   "metadata": {},
   "outputs": [
    {
     "data": {
      "text/plain": [
       "count            27075\n",
       "unique            1552\n",
       "top       Action;Indie\n",
       "freq              1852\n",
       "Name: genres, dtype: object"
      ]
     },
     "execution_count": 86,
     "metadata": {},
     "output_type": "execute_result"
    }
   ],
   "source": [
    "data_raw.genres.describe()"
   ]
  },
  {
   "cell_type": "code",
   "execution_count": 87,
   "metadata": {},
   "outputs": [
    {
     "data": {
      "text/plain": [
       "count                   27075\n",
       "unique                   6423\n",
       "top       Action;Indie;Casual\n",
       "freq                      845\n",
       "Name: steamspy_tags, dtype: object"
      ]
     },
     "execution_count": 87,
     "metadata": {},
     "output_type": "execute_result"
    }
   ],
   "source": [
    "data_raw.steamspy_tags.describe()"
   ]
  },
  {
   "cell_type": "markdown",
   "metadata": {},
   "source": [
    "We can see that as in other text entries, this one is also separeted by a semicolon, and whith the `.apply` method, is very easy, to perform an lambda function to split it by ; and take the first element."
   ]
  },
  {
   "cell_type": "code",
   "execution_count": 88,
   "metadata": {},
   "outputs": [],
   "source": [
    "data_raw[\"steamspy_tags\"] = data_raw[\"steamspy_tags\"].apply(lambda tag : tag.strip().split(\";\")[0])"
   ]
  },
  {
   "cell_type": "markdown",
   "metadata": {},
   "source": [
    "### The date column"
   ]
  },
  {
   "cell_type": "markdown",
   "metadata": {},
   "source": [
    "Let's parse the date column, as the `pd.read_csv()`, did not recognised as a date format"
   ]
  },
  {
   "cell_type": "code",
   "execution_count": 89,
   "metadata": {},
   "outputs": [],
   "source": [
    "data_raw[\"release_date\"] = data_raw[\"release_date\"].astype(\"datetime64[ns]\")\n",
    "data_raw[\"release_year\"] = pd.DatetimeIndex(data_raw.release_date).year\n",
    "data_raw[\"release_month\"] = pd.DatetimeIndex(data_raw.release_date).month"
   ]
  },
  {
   "cell_type": "markdown",
   "metadata": {},
   "source": [
    "### The owners column"
   ]
  },
  {
   "cell_type": "markdown",
   "metadata": {},
   "source": [
    "The description for this column in the information about the dataset, says \"Estimated number of owners. Contains lower and upper bound (like 20000-50000). May wish to take mid-point or lower\".\n",
    "\n",
    "I took interest in this an visted the web site for the steam spy, and find out that the reason they estimate the owner like this is because, the way they keep track of this metric, when Steam launch a beta or a free game during a weekend the number of users changes. By the way you can check thir [web site](https://steamspy.com/)\n",
    "\n",
    "So let´s take the mid point of the range.\n",
    " \n",
    "\n"
   ]
  },
  {
   "cell_type": "code",
   "execution_count": 90,
   "metadata": {},
   "outputs": [
    {
     "data": {
      "text/plain": [
       "count       27075\n",
       "unique         13\n",
       "top       0-20000\n",
       "freq        18596\n",
       "Name: owners, dtype: object"
      ]
     },
     "execution_count": 90,
     "metadata": {},
     "output_type": "execute_result"
    }
   ],
   "source": [
    "data_raw.owners.describe()"
   ]
  },
  {
   "cell_type": "code",
   "execution_count": 91,
   "metadata": {},
   "outputs": [],
   "source": [
    "data_raw[\"midpoint_range_owners\"] = data_raw[\"owners\"].apply(\n",
    "    lambda item : (int(item.strip().split(\"-\")[0]) + int(item.strip().split(\"-\")[1])) / 2)"
   ]
  },
  {
   "cell_type": "markdown",
   "metadata": {},
   "source": [
    "### Dropping some of the unwanted columns"
   ]
  },
  {
   "cell_type": "code",
   "execution_count": 92,
   "metadata": {},
   "outputs": [],
   "source": [
    "unwanted_cols = [\"english\",\"required_age\",\"genres\",\"owners\"]"
   ]
  },
  {
   "cell_type": "code",
   "execution_count": 93,
   "metadata": {},
   "outputs": [
    {
     "data": {
      "text/html": [
       "<div>\n",
       "<style scoped>\n",
       "    .dataframe tbody tr th:only-of-type {\n",
       "        vertical-align: middle;\n",
       "    }\n",
       "\n",
       "    .dataframe tbody tr th {\n",
       "        vertical-align: top;\n",
       "    }\n",
       "\n",
       "    .dataframe thead th {\n",
       "        text-align: right;\n",
       "    }\n",
       "</style>\n",
       "<table border=\"1\" class=\"dataframe\">\n",
       "  <thead>\n",
       "    <tr style=\"text-align: right;\">\n",
       "      <th></th>\n",
       "      <th>name</th>\n",
       "      <th>release_date</th>\n",
       "      <th>developer</th>\n",
       "      <th>publisher</th>\n",
       "      <th>platforms</th>\n",
       "      <th>categories</th>\n",
       "      <th>steamspy_tags</th>\n",
       "      <th>achievements</th>\n",
       "      <th>positive_ratings</th>\n",
       "      <th>negative_ratings</th>\n",
       "      <th>average_playtime</th>\n",
       "      <th>median_playtime</th>\n",
       "      <th>price</th>\n",
       "      <th>release_year</th>\n",
       "      <th>release_month</th>\n",
       "      <th>midpoint_range_owners</th>\n",
       "    </tr>\n",
       "    <tr>\n",
       "      <th>appid</th>\n",
       "      <th></th>\n",
       "      <th></th>\n",
       "      <th></th>\n",
       "      <th></th>\n",
       "      <th></th>\n",
       "      <th></th>\n",
       "      <th></th>\n",
       "      <th></th>\n",
       "      <th></th>\n",
       "      <th></th>\n",
       "      <th></th>\n",
       "      <th></th>\n",
       "      <th></th>\n",
       "      <th></th>\n",
       "      <th></th>\n",
       "      <th></th>\n",
       "    </tr>\n",
       "  </thead>\n",
       "  <tbody>\n",
       "    <tr>\n",
       "      <th>10</th>\n",
       "      <td>Counter-Strike</td>\n",
       "      <td>2000-11-01</td>\n",
       "      <td>Valve</td>\n",
       "      <td>Valve</td>\n",
       "      <td>windows;mac;linux</td>\n",
       "      <td>Multi-player</td>\n",
       "      <td>Action</td>\n",
       "      <td>0</td>\n",
       "      <td>124534</td>\n",
       "      <td>3339</td>\n",
       "      <td>17612</td>\n",
       "      <td>317</td>\n",
       "      <td>7.19</td>\n",
       "      <td>2000</td>\n",
       "      <td>11</td>\n",
       "      <td>15000000.0</td>\n",
       "    </tr>\n",
       "    <tr>\n",
       "      <th>20</th>\n",
       "      <td>Team Fortress Classic</td>\n",
       "      <td>1999-04-01</td>\n",
       "      <td>Valve</td>\n",
       "      <td>Valve</td>\n",
       "      <td>windows;mac;linux</td>\n",
       "      <td>Multi-player</td>\n",
       "      <td>Action</td>\n",
       "      <td>0</td>\n",
       "      <td>3318</td>\n",
       "      <td>633</td>\n",
       "      <td>277</td>\n",
       "      <td>62</td>\n",
       "      <td>3.99</td>\n",
       "      <td>1999</td>\n",
       "      <td>4</td>\n",
       "      <td>7500000.0</td>\n",
       "    </tr>\n",
       "    <tr>\n",
       "      <th>30</th>\n",
       "      <td>Day of Defeat</td>\n",
       "      <td>2003-05-01</td>\n",
       "      <td>Valve</td>\n",
       "      <td>Valve</td>\n",
       "      <td>windows;mac;linux</td>\n",
       "      <td>Multi-player</td>\n",
       "      <td>FPS</td>\n",
       "      <td>0</td>\n",
       "      <td>3416</td>\n",
       "      <td>398</td>\n",
       "      <td>187</td>\n",
       "      <td>34</td>\n",
       "      <td>3.99</td>\n",
       "      <td>2003</td>\n",
       "      <td>5</td>\n",
       "      <td>7500000.0</td>\n",
       "    </tr>\n",
       "    <tr>\n",
       "      <th>40</th>\n",
       "      <td>Deathmatch Classic</td>\n",
       "      <td>2001-06-01</td>\n",
       "      <td>Valve</td>\n",
       "      <td>Valve</td>\n",
       "      <td>windows;mac;linux</td>\n",
       "      <td>Multi-player</td>\n",
       "      <td>Action</td>\n",
       "      <td>0</td>\n",
       "      <td>1273</td>\n",
       "      <td>267</td>\n",
       "      <td>258</td>\n",
       "      <td>184</td>\n",
       "      <td>3.99</td>\n",
       "      <td>2001</td>\n",
       "      <td>6</td>\n",
       "      <td>7500000.0</td>\n",
       "    </tr>\n",
       "    <tr>\n",
       "      <th>50</th>\n",
       "      <td>Half-Life: Opposing Force</td>\n",
       "      <td>1999-11-01</td>\n",
       "      <td>Gearbox Software</td>\n",
       "      <td>Valve</td>\n",
       "      <td>windows;mac;linux</td>\n",
       "      <td>Single &amp; Multi-player</td>\n",
       "      <td>FPS</td>\n",
       "      <td>0</td>\n",
       "      <td>5250</td>\n",
       "      <td>288</td>\n",
       "      <td>624</td>\n",
       "      <td>415</td>\n",
       "      <td>3.99</td>\n",
       "      <td>1999</td>\n",
       "      <td>11</td>\n",
       "      <td>7500000.0</td>\n",
       "    </tr>\n",
       "  </tbody>\n",
       "</table>\n",
       "</div>"
      ],
      "text/plain": [
       "                            name release_date         developer publisher  \\\n",
       "appid                                                                       \n",
       "10                Counter-Strike   2000-11-01             Valve     Valve   \n",
       "20         Team Fortress Classic   1999-04-01             Valve     Valve   \n",
       "30                 Day of Defeat   2003-05-01             Valve     Valve   \n",
       "40            Deathmatch Classic   2001-06-01             Valve     Valve   \n",
       "50     Half-Life: Opposing Force   1999-11-01  Gearbox Software     Valve   \n",
       "\n",
       "               platforms             categories steamspy_tags  achievements  \\\n",
       "appid                                                                         \n",
       "10     windows;mac;linux           Multi-player        Action             0   \n",
       "20     windows;mac;linux           Multi-player        Action             0   \n",
       "30     windows;mac;linux           Multi-player           FPS             0   \n",
       "40     windows;mac;linux           Multi-player        Action             0   \n",
       "50     windows;mac;linux  Single & Multi-player           FPS             0   \n",
       "\n",
       "       positive_ratings  negative_ratings  average_playtime  median_playtime  \\\n",
       "appid                                                                          \n",
       "10               124534              3339             17612              317   \n",
       "20                 3318               633               277               62   \n",
       "30                 3416               398               187               34   \n",
       "40                 1273               267               258              184   \n",
       "50                 5250               288               624              415   \n",
       "\n",
       "       price  release_year  release_month  midpoint_range_owners  \n",
       "appid                                                             \n",
       "10      7.19          2000             11             15000000.0  \n",
       "20      3.99          1999              4              7500000.0  \n",
       "30      3.99          2003              5              7500000.0  \n",
       "40      3.99          2001              6              7500000.0  \n",
       "50      3.99          1999             11              7500000.0  "
      ]
     },
     "execution_count": 93,
     "metadata": {},
     "output_type": "execute_result"
    }
   ],
   "source": [
    "data_raw.drop(columns=unwanted_cols,inplace=True)\n",
    "data_raw.head()"
   ]
  },
  {
   "cell_type": "code",
   "execution_count": 94,
   "metadata": {},
   "outputs": [
    {
     "data": {
      "text/plain": [
       "(27075, 16)"
      ]
     },
     "execution_count": 94,
     "metadata": {},
     "output_type": "execute_result"
    }
   ],
   "source": [
    "data_raw.shape"
   ]
  },
  {
   "cell_type": "markdown",
   "metadata": {},
   "source": [
    "After the processing the data set now has 27075 rows and 16 columns and we are ready to make some data visualization"
   ]
  },
  {
   "cell_type": "code",
   "execution_count": 95,
   "metadata": {},
   "outputs": [],
   "source": [
    "import jovian"
   ]
  },
  {
   "cell_type": "code",
   "execution_count": 96,
   "metadata": {},
   "outputs": [
    {
     "data": {
      "application/javascript": [
       "window.require && require([\"base/js/namespace\"],function(Jupyter){Jupyter.notebook.save_checkpoint()})"
      ],
      "text/plain": [
       "<IPython.core.display.Javascript object>"
      ]
     },
     "metadata": {},
     "output_type": "display_data"
    },
    {
     "name": "stdout",
     "output_type": "stream",
     "text": [
      "[jovian] Attempting to save notebook..\u001b[0m\n",
      "[jovian] Updating notebook \"carloscuepuente/zerotopandas-course-project-steam-catalog-analysis\" on https://jovian.ai\u001b[0m\n",
      "[jovian] Uploading notebook..\u001b[0m\n",
      "[jovian] Uploading additional files...\u001b[0m\n",
      "[jovian] Committed successfully! https://jovian.ai/carloscuepuente/zerotopandas-course-project-steam-catalog-analysis\u001b[0m\n"
     ]
    },
    {
     "data": {
      "text/plain": [
       "'https://jovian.ai/carloscuepuente/zerotopandas-course-project-steam-catalog-analysis'"
      ]
     },
     "execution_count": 96,
     "metadata": {},
     "output_type": "execute_result"
    }
   ],
   "source": [
    "jovian.commit()"
   ]
  },
  {
   "cell_type": "markdown",
   "metadata": {},
   "source": [
    "## Exploratory Analysis and Visualization"
   ]
  },
  {
   "cell_type": "markdown",
   "metadata": {},
   "source": [
    "## Heat map for the steam catalog game releases"
   ]
  },
  {
   "cell_type": "markdown",
   "metadata": {},
   "source": [
    "To make a [heat map](https://en.wikipedia.org/wiki/Heat_map) of game releases on steam, we need to calculate the frequency of game releases by month and year. So we need to perform a groupby operation and count the game releases in those groups."
   ]
  },
  {
   "cell_type": "code",
   "execution_count": 97,
   "metadata": {},
   "outputs": [
    {
     "data": {
      "text/html": [
       "<div>\n",
       "<style scoped>\n",
       "    .dataframe tbody tr th:only-of-type {\n",
       "        vertical-align: middle;\n",
       "    }\n",
       "\n",
       "    .dataframe tbody tr th {\n",
       "        vertical-align: top;\n",
       "    }\n",
       "\n",
       "    .dataframe thead th {\n",
       "        text-align: right;\n",
       "    }\n",
       "</style>\n",
       "<table border=\"1\" class=\"dataframe\">\n",
       "  <thead>\n",
       "    <tr style=\"text-align: right;\">\n",
       "      <th></th>\n",
       "      <th></th>\n",
       "      <th>name</th>\n",
       "    </tr>\n",
       "    <tr>\n",
       "      <th>release_year</th>\n",
       "      <th>release_month</th>\n",
       "      <th></th>\n",
       "    </tr>\n",
       "  </thead>\n",
       "  <tbody>\n",
       "    <tr>\n",
       "      <th>1997</th>\n",
       "      <th>6</th>\n",
       "      <td>1</td>\n",
       "    </tr>\n",
       "    <tr>\n",
       "      <th>1998</th>\n",
       "      <th>11</th>\n",
       "      <td>1</td>\n",
       "    </tr>\n",
       "    <tr>\n",
       "      <th rowspan=\"2\" valign=\"top\">1999</th>\n",
       "      <th>4</th>\n",
       "      <td>1</td>\n",
       "    </tr>\n",
       "    <tr>\n",
       "      <th>11</th>\n",
       "      <td>1</td>\n",
       "    </tr>\n",
       "    <tr>\n",
       "      <th>2000</th>\n",
       "      <th>11</th>\n",
       "      <td>2</td>\n",
       "    </tr>\n",
       "  </tbody>\n",
       "</table>\n",
       "</div>"
      ],
      "text/plain": [
       "                            name\n",
       "release_year release_month      \n",
       "1997         6                 1\n",
       "1998         11                1\n",
       "1999         4                 1\n",
       "             11                1\n",
       "2000         11                2"
      ]
     },
     "execution_count": 97,
     "metadata": {},
     "output_type": "execute_result"
    }
   ],
   "source": [
    "frequency = pd.DataFrame(data_raw.groupby(by=[\"release_year\",\"release_month\"]).count()[\"name\"])\n",
    "frequency.head()"
   ]
  },
  {
   "cell_type": "markdown",
   "metadata": {},
   "source": [
    "Then we can use the `df.unstack()` [method](https://pandas.pydata.org/docs/reference/api/pandas.DataFrame.unstack.html), to pivot the frequency dataframe"
   ]
  },
  {
   "cell_type": "code",
   "execution_count": 98,
   "metadata": {},
   "outputs": [],
   "source": [
    "frequency = frequency.unstack()"
   ]
  },
  {
   "cell_type": "code",
   "execution_count": 99,
   "metadata": {},
   "outputs": [
    {
     "data": {
      "text/html": [
       "<div>\n",
       "<style scoped>\n",
       "    .dataframe tbody tr th:only-of-type {\n",
       "        vertical-align: middle;\n",
       "    }\n",
       "\n",
       "    .dataframe tbody tr th {\n",
       "        vertical-align: top;\n",
       "    }\n",
       "\n",
       "    .dataframe thead tr th {\n",
       "        text-align: left;\n",
       "    }\n",
       "\n",
       "    .dataframe thead tr:last-of-type th {\n",
       "        text-align: right;\n",
       "    }\n",
       "</style>\n",
       "<table border=\"1\" class=\"dataframe\">\n",
       "  <thead>\n",
       "    <tr>\n",
       "      <th></th>\n",
       "      <th colspan=\"12\" halign=\"left\">name</th>\n",
       "    </tr>\n",
       "    <tr>\n",
       "      <th>release_month</th>\n",
       "      <th>1</th>\n",
       "      <th>2</th>\n",
       "      <th>3</th>\n",
       "      <th>4</th>\n",
       "      <th>5</th>\n",
       "      <th>6</th>\n",
       "      <th>7</th>\n",
       "      <th>8</th>\n",
       "      <th>9</th>\n",
       "      <th>10</th>\n",
       "      <th>11</th>\n",
       "      <th>12</th>\n",
       "    </tr>\n",
       "    <tr>\n",
       "      <th>release_year</th>\n",
       "      <th></th>\n",
       "      <th></th>\n",
       "      <th></th>\n",
       "      <th></th>\n",
       "      <th></th>\n",
       "      <th></th>\n",
       "      <th></th>\n",
       "      <th></th>\n",
       "      <th></th>\n",
       "      <th></th>\n",
       "      <th></th>\n",
       "      <th></th>\n",
       "    </tr>\n",
       "  </thead>\n",
       "  <tbody>\n",
       "    <tr>\n",
       "      <th>1997</th>\n",
       "      <td>NaN</td>\n",
       "      <td>NaN</td>\n",
       "      <td>NaN</td>\n",
       "      <td>NaN</td>\n",
       "      <td>NaN</td>\n",
       "      <td>1.0</td>\n",
       "      <td>NaN</td>\n",
       "      <td>NaN</td>\n",
       "      <td>NaN</td>\n",
       "      <td>NaN</td>\n",
       "      <td>NaN</td>\n",
       "      <td>NaN</td>\n",
       "    </tr>\n",
       "    <tr>\n",
       "      <th>1998</th>\n",
       "      <td>NaN</td>\n",
       "      <td>NaN</td>\n",
       "      <td>NaN</td>\n",
       "      <td>NaN</td>\n",
       "      <td>NaN</td>\n",
       "      <td>NaN</td>\n",
       "      <td>NaN</td>\n",
       "      <td>NaN</td>\n",
       "      <td>NaN</td>\n",
       "      <td>NaN</td>\n",
       "      <td>1.0</td>\n",
       "      <td>NaN</td>\n",
       "    </tr>\n",
       "    <tr>\n",
       "      <th>1999</th>\n",
       "      <td>NaN</td>\n",
       "      <td>NaN</td>\n",
       "      <td>NaN</td>\n",
       "      <td>1.0</td>\n",
       "      <td>NaN</td>\n",
       "      <td>NaN</td>\n",
       "      <td>NaN</td>\n",
       "      <td>NaN</td>\n",
       "      <td>NaN</td>\n",
       "      <td>NaN</td>\n",
       "      <td>1.0</td>\n",
       "      <td>NaN</td>\n",
       "    </tr>\n",
       "    <tr>\n",
       "      <th>2000</th>\n",
       "      <td>NaN</td>\n",
       "      <td>NaN</td>\n",
       "      <td>NaN</td>\n",
       "      <td>NaN</td>\n",
       "      <td>NaN</td>\n",
       "      <td>NaN</td>\n",
       "      <td>NaN</td>\n",
       "      <td>NaN</td>\n",
       "      <td>NaN</td>\n",
       "      <td>NaN</td>\n",
       "      <td>2.0</td>\n",
       "      <td>NaN</td>\n",
       "    </tr>\n",
       "    <tr>\n",
       "      <th>2001</th>\n",
       "      <td>NaN</td>\n",
       "      <td>NaN</td>\n",
       "      <td>1.0</td>\n",
       "      <td>NaN</td>\n",
       "      <td>NaN</td>\n",
       "      <td>2.0</td>\n",
       "      <td>NaN</td>\n",
       "      <td>NaN</td>\n",
       "      <td>NaN</td>\n",
       "      <td>NaN</td>\n",
       "      <td>NaN</td>\n",
       "      <td>1.0</td>\n",
       "    </tr>\n",
       "    <tr>\n",
       "      <th>2002</th>\n",
       "      <td>NaN</td>\n",
       "      <td>NaN</td>\n",
       "      <td>NaN</td>\n",
       "      <td>NaN</td>\n",
       "      <td>NaN</td>\n",
       "      <td>NaN</td>\n",
       "      <td>NaN</td>\n",
       "      <td>1.0</td>\n",
       "      <td>NaN</td>\n",
       "      <td>NaN</td>\n",
       "      <td>NaN</td>\n",
       "      <td>NaN</td>\n",
       "    </tr>\n",
       "    <tr>\n",
       "      <th>2003</th>\n",
       "      <td>NaN</td>\n",
       "      <td>NaN</td>\n",
       "      <td>NaN</td>\n",
       "      <td>NaN</td>\n",
       "      <td>1.0</td>\n",
       "      <td>NaN</td>\n",
       "      <td>1.0</td>\n",
       "      <td>NaN</td>\n",
       "      <td>NaN</td>\n",
       "      <td>NaN</td>\n",
       "      <td>1.0</td>\n",
       "      <td>NaN</td>\n",
       "    </tr>\n",
       "    <tr>\n",
       "      <th>2004</th>\n",
       "      <td>NaN</td>\n",
       "      <td>NaN</td>\n",
       "      <td>2.0</td>\n",
       "      <td>NaN</td>\n",
       "      <td>NaN</td>\n",
       "      <td>1.0</td>\n",
       "      <td>NaN</td>\n",
       "      <td>NaN</td>\n",
       "      <td>NaN</td>\n",
       "      <td>NaN</td>\n",
       "      <td>3.0</td>\n",
       "      <td>NaN</td>\n",
       "    </tr>\n",
       "    <tr>\n",
       "      <th>2005</th>\n",
       "      <td>NaN</td>\n",
       "      <td>NaN</td>\n",
       "      <td>NaN</td>\n",
       "      <td>1.0</td>\n",
       "      <td>NaN</td>\n",
       "      <td>NaN</td>\n",
       "      <td>2.0</td>\n",
       "      <td>1.0</td>\n",
       "      <td>NaN</td>\n",
       "      <td>2.0</td>\n",
       "      <td>NaN</td>\n",
       "      <td>NaN</td>\n",
       "    </tr>\n",
       "    <tr>\n",
       "      <th>2006</th>\n",
       "      <td>NaN</td>\n",
       "      <td>2.0</td>\n",
       "      <td>1.0</td>\n",
       "      <td>1.0</td>\n",
       "      <td>3.0</td>\n",
       "      <td>1.0</td>\n",
       "      <td>6.0</td>\n",
       "      <td>4.0</td>\n",
       "      <td>5.0</td>\n",
       "      <td>14.0</td>\n",
       "      <td>6.0</td>\n",
       "      <td>5.0</td>\n",
       "    </tr>\n",
       "    <tr>\n",
       "      <th>2007</th>\n",
       "      <td>1.0</td>\n",
       "      <td>2.0</td>\n",
       "      <td>23.0</td>\n",
       "      <td>3.0</td>\n",
       "      <td>5.0</td>\n",
       "      <td>6.0</td>\n",
       "      <td>7.0</td>\n",
       "      <td>29.0</td>\n",
       "      <td>3.0</td>\n",
       "      <td>7.0</td>\n",
       "      <td>4.0</td>\n",
       "      <td>3.0</td>\n",
       "    </tr>\n",
       "    <tr>\n",
       "      <th>2008</th>\n",
       "      <td>12.0</td>\n",
       "      <td>4.0</td>\n",
       "      <td>10.0</td>\n",
       "      <td>7.0</td>\n",
       "      <td>13.0</td>\n",
       "      <td>17.0</td>\n",
       "      <td>14.0</td>\n",
       "      <td>7.0</td>\n",
       "      <td>16.0</td>\n",
       "      <td>18.0</td>\n",
       "      <td>13.0</td>\n",
       "      <td>14.0</td>\n",
       "    </tr>\n",
       "    <tr>\n",
       "      <th>2009</th>\n",
       "      <td>11.0</td>\n",
       "      <td>17.0</td>\n",
       "      <td>20.0</td>\n",
       "      <td>15.0</td>\n",
       "      <td>21.0</td>\n",
       "      <td>29.0</td>\n",
       "      <td>48.0</td>\n",
       "      <td>33.0</td>\n",
       "      <td>24.0</td>\n",
       "      <td>34.0</td>\n",
       "      <td>32.0</td>\n",
       "      <td>21.0</td>\n",
       "    </tr>\n",
       "    <tr>\n",
       "      <th>2010</th>\n",
       "      <td>12.0</td>\n",
       "      <td>25.0</td>\n",
       "      <td>19.0</td>\n",
       "      <td>30.0</td>\n",
       "      <td>14.0</td>\n",
       "      <td>17.0</td>\n",
       "      <td>26.0</td>\n",
       "      <td>13.0</td>\n",
       "      <td>21.0</td>\n",
       "      <td>33.0</td>\n",
       "      <td>19.0</td>\n",
       "      <td>9.0</td>\n",
       "    </tr>\n",
       "    <tr>\n",
       "      <th>2011</th>\n",
       "      <td>13.0</td>\n",
       "      <td>12.0</td>\n",
       "      <td>20.0</td>\n",
       "      <td>17.0</td>\n",
       "      <td>23.0</td>\n",
       "      <td>23.0</td>\n",
       "      <td>17.0</td>\n",
       "      <td>28.0</td>\n",
       "      <td>28.0</td>\n",
       "      <td>30.0</td>\n",
       "      <td>20.0</td>\n",
       "      <td>8.0</td>\n",
       "    </tr>\n",
       "    <tr>\n",
       "      <th>2012</th>\n",
       "      <td>16.0</td>\n",
       "      <td>23.0</td>\n",
       "      <td>25.0</td>\n",
       "      <td>25.0</td>\n",
       "      <td>29.0</td>\n",
       "      <td>22.0</td>\n",
       "      <td>13.0</td>\n",
       "      <td>35.0</td>\n",
       "      <td>34.0</td>\n",
       "      <td>45.0</td>\n",
       "      <td>33.0</td>\n",
       "      <td>20.0</td>\n",
       "    </tr>\n",
       "    <tr>\n",
       "      <th>2013</th>\n",
       "      <td>14.0</td>\n",
       "      <td>22.0</td>\n",
       "      <td>26.0</td>\n",
       "      <td>29.0</td>\n",
       "      <td>28.0</td>\n",
       "      <td>26.0</td>\n",
       "      <td>18.0</td>\n",
       "      <td>33.0</td>\n",
       "      <td>39.0</td>\n",
       "      <td>69.0</td>\n",
       "      <td>68.0</td>\n",
       "      <td>46.0</td>\n",
       "    </tr>\n",
       "    <tr>\n",
       "      <th>2014</th>\n",
       "      <td>63.0</td>\n",
       "      <td>98.0</td>\n",
       "      <td>109.0</td>\n",
       "      <td>152.0</td>\n",
       "      <td>198.0</td>\n",
       "      <td>114.0</td>\n",
       "      <td>161.0</td>\n",
       "      <td>113.0</td>\n",
       "      <td>119.0</td>\n",
       "      <td>159.0</td>\n",
       "      <td>135.0</td>\n",
       "      <td>134.0</td>\n",
       "    </tr>\n",
       "    <tr>\n",
       "      <th>2015</th>\n",
       "      <td>161.0</td>\n",
       "      <td>181.0</td>\n",
       "      <td>169.0</td>\n",
       "      <td>212.0</td>\n",
       "      <td>245.0</td>\n",
       "      <td>187.0</td>\n",
       "      <td>254.0</td>\n",
       "      <td>252.0</td>\n",
       "      <td>258.0</td>\n",
       "      <td>251.0</td>\n",
       "      <td>213.0</td>\n",
       "      <td>214.0</td>\n",
       "    </tr>\n",
       "    <tr>\n",
       "      <th>2016</th>\n",
       "      <td>206.0</td>\n",
       "      <td>235.0</td>\n",
       "      <td>321.0</td>\n",
       "      <td>370.0</td>\n",
       "      <td>289.0</td>\n",
       "      <td>321.0</td>\n",
       "      <td>356.0</td>\n",
       "      <td>438.0</td>\n",
       "      <td>432.0</td>\n",
       "      <td>473.0</td>\n",
       "      <td>434.0</td>\n",
       "      <td>486.0</td>\n",
       "    </tr>\n",
       "    <tr>\n",
       "      <th>2017</th>\n",
       "      <td>364.0</td>\n",
       "      <td>444.0</td>\n",
       "      <td>463.0</td>\n",
       "      <td>397.0</td>\n",
       "      <td>425.0</td>\n",
       "      <td>385.0</td>\n",
       "      <td>556.0</td>\n",
       "      <td>654.0</td>\n",
       "      <td>688.0</td>\n",
       "      <td>705.0</td>\n",
       "      <td>627.0</td>\n",
       "      <td>649.0</td>\n",
       "    </tr>\n",
       "    <tr>\n",
       "      <th>2018</th>\n",
       "      <td>543.0</td>\n",
       "      <td>673.0</td>\n",
       "      <td>787.0</td>\n",
       "      <td>697.0</td>\n",
       "      <td>765.0</td>\n",
       "      <td>615.0</td>\n",
       "      <td>707.0</td>\n",
       "      <td>692.0</td>\n",
       "      <td>703.0</td>\n",
       "      <td>651.0</td>\n",
       "      <td>716.0</td>\n",
       "      <td>611.0</td>\n",
       "    </tr>\n",
       "    <tr>\n",
       "      <th>2019</th>\n",
       "      <td>558.0</td>\n",
       "      <td>587.0</td>\n",
       "      <td>587.0</td>\n",
       "      <td>480.0</td>\n",
       "      <td>1.0</td>\n",
       "      <td>NaN</td>\n",
       "      <td>NaN</td>\n",
       "      <td>NaN</td>\n",
       "      <td>NaN</td>\n",
       "      <td>NaN</td>\n",
       "      <td>NaN</td>\n",
       "      <td>NaN</td>\n",
       "    </tr>\n",
       "  </tbody>\n",
       "</table>\n",
       "</div>"
      ],
      "text/plain": [
       "                name                                                          \\\n",
       "release_month     1      2      3      4      5      6      7      8      9    \n",
       "release_year                                                                   \n",
       "1997             NaN    NaN    NaN    NaN    NaN    1.0    NaN    NaN    NaN   \n",
       "1998             NaN    NaN    NaN    NaN    NaN    NaN    NaN    NaN    NaN   \n",
       "1999             NaN    NaN    NaN    1.0    NaN    NaN    NaN    NaN    NaN   \n",
       "2000             NaN    NaN    NaN    NaN    NaN    NaN    NaN    NaN    NaN   \n",
       "2001             NaN    NaN    1.0    NaN    NaN    2.0    NaN    NaN    NaN   \n",
       "2002             NaN    NaN    NaN    NaN    NaN    NaN    NaN    1.0    NaN   \n",
       "2003             NaN    NaN    NaN    NaN    1.0    NaN    1.0    NaN    NaN   \n",
       "2004             NaN    NaN    2.0    NaN    NaN    1.0    NaN    NaN    NaN   \n",
       "2005             NaN    NaN    NaN    1.0    NaN    NaN    2.0    1.0    NaN   \n",
       "2006             NaN    2.0    1.0    1.0    3.0    1.0    6.0    4.0    5.0   \n",
       "2007             1.0    2.0   23.0    3.0    5.0    6.0    7.0   29.0    3.0   \n",
       "2008            12.0    4.0   10.0    7.0   13.0   17.0   14.0    7.0   16.0   \n",
       "2009            11.0   17.0   20.0   15.0   21.0   29.0   48.0   33.0   24.0   \n",
       "2010            12.0   25.0   19.0   30.0   14.0   17.0   26.0   13.0   21.0   \n",
       "2011            13.0   12.0   20.0   17.0   23.0   23.0   17.0   28.0   28.0   \n",
       "2012            16.0   23.0   25.0   25.0   29.0   22.0   13.0   35.0   34.0   \n",
       "2013            14.0   22.0   26.0   29.0   28.0   26.0   18.0   33.0   39.0   \n",
       "2014            63.0   98.0  109.0  152.0  198.0  114.0  161.0  113.0  119.0   \n",
       "2015           161.0  181.0  169.0  212.0  245.0  187.0  254.0  252.0  258.0   \n",
       "2016           206.0  235.0  321.0  370.0  289.0  321.0  356.0  438.0  432.0   \n",
       "2017           364.0  444.0  463.0  397.0  425.0  385.0  556.0  654.0  688.0   \n",
       "2018           543.0  673.0  787.0  697.0  765.0  615.0  707.0  692.0  703.0   \n",
       "2019           558.0  587.0  587.0  480.0    1.0    NaN    NaN    NaN    NaN   \n",
       "\n",
       "                                    \n",
       "release_month     10     11     12  \n",
       "release_year                        \n",
       "1997             NaN    NaN    NaN  \n",
       "1998             NaN    1.0    NaN  \n",
       "1999             NaN    1.0    NaN  \n",
       "2000             NaN    2.0    NaN  \n",
       "2001             NaN    NaN    1.0  \n",
       "2002             NaN    NaN    NaN  \n",
       "2003             NaN    1.0    NaN  \n",
       "2004             NaN    3.0    NaN  \n",
       "2005             2.0    NaN    NaN  \n",
       "2006            14.0    6.0    5.0  \n",
       "2007             7.0    4.0    3.0  \n",
       "2008            18.0   13.0   14.0  \n",
       "2009            34.0   32.0   21.0  \n",
       "2010            33.0   19.0    9.0  \n",
       "2011            30.0   20.0    8.0  \n",
       "2012            45.0   33.0   20.0  \n",
       "2013            69.0   68.0   46.0  \n",
       "2014           159.0  135.0  134.0  \n",
       "2015           251.0  213.0  214.0  \n",
       "2016           473.0  434.0  486.0  \n",
       "2017           705.0  627.0  649.0  \n",
       "2018           651.0  716.0  611.0  \n",
       "2019             NaN    NaN    NaN  "
      ]
     },
     "execution_count": 99,
     "metadata": {},
     "output_type": "execute_result"
    }
   ],
   "source": [
    "frequency"
   ]
  },
  {
   "cell_type": "markdown",
   "metadata": {},
   "source": [
    "The resulting `frequency` dataframe now has the release month row as a column, and the method automatically assign a `Nan`value for the missing values. You can pass an optional `fill_value` keyword to fill this `Nan`values with custom value."
   ]
  },
  {
   "cell_type": "markdown",
   "metadata": {},
   "source": [
    "Another problem we have is that since the `frequency` dataframe has a `MultiIndex`, the columns of the dataframe are now tuples of values."
   ]
  },
  {
   "cell_type": "code",
   "execution_count": 100,
   "metadata": {},
   "outputs": [
    {
     "data": {
      "text/plain": [
       "MultiIndex([('name',  1),\n",
       "            ('name',  2),\n",
       "            ('name',  3),\n",
       "            ('name',  4),\n",
       "            ('name',  5),\n",
       "            ('name',  6),\n",
       "            ('name',  7),\n",
       "            ('name',  8),\n",
       "            ('name',  9),\n",
       "            ('name', 10),\n",
       "            ('name', 11),\n",
       "            ('name', 12)],\n",
       "           names=[None, 'release_month'])"
      ]
     },
     "execution_count": 100,
     "metadata": {},
     "output_type": "execute_result"
    }
   ],
   "source": [
    "frequency.columns"
   ]
  },
  {
   "cell_type": "markdown",
   "metadata": {},
   "source": [
    "We can use the `droplevel()` method to remove 1 level of the `MultiIndex` in the column axis"
   ]
  },
  {
   "cell_type": "code",
   "execution_count": 101,
   "metadata": {},
   "outputs": [],
   "source": [
    "frequency=frequency.droplevel(0,axis=1)"
   ]
  },
  {
   "cell_type": "code",
   "execution_count": 102,
   "metadata": {},
   "outputs": [
    {
     "data": {
      "text/plain": [
       "Int64Index([1, 2, 3, 4, 5, 6, 7, 8, 9, 10, 11, 12], dtype='int64', name='release_month')"
      ]
     },
     "execution_count": 102,
     "metadata": {},
     "output_type": "execute_result"
    }
   ],
   "source": [
    "frequency.columns"
   ]
  },
  {
   "cell_type": "markdown",
   "metadata": {},
   "source": [
    "And finally using the `.heatmap()` method. The `cmap` option is for setting the color palette for the heatmap, I used the \"coolwarm\" palette, because it offers a self-explanatory contrast, but you can find a ton of other cool color palettes in the [seaborn documentation](https://seaborn.pydata.org/tutorial/color_palettes.html). The `linewidths` is for adding a separation for the color grid. For more info about the seaborn heatmap click [here](https://seaborn.pydata.org/generated/seaborn.heatmap.html)"
   ]
  },
  {
   "cell_type": "code",
   "execution_count": 103,
   "metadata": {},
   "outputs": [
    {
     "data": {
      "image/png": "[encoded data removed]",
      "text/plain": [
       "<Figure size 1080x504 with 2 Axes>"
      ]
     },
     "metadata": {
      "needs_background": "light"
     },
     "output_type": "display_data"
    }
   ],
   "source": [
    "plt.figure(figsize = (15,7))\n",
    "sns.heatmap(frequency,cmap=\"coolwarm\",linewidths=.05);"
   ]
  },
  {
   "cell_type": "markdown",
   "metadata": {},
   "source": [
    "Several insights can be drawn from this graphic:\n",
    "* Steam started releasing games every month since february of 2006\n",
    "* The release rate started to increase in 2014\n",
    "* Of the entire time series, March 2018 was when the most games were released\n",
    "* The data goes up to April 2019"
   ]
  },
  {
   "cell_type": "markdown",
   "metadata": {},
   "source": [
    "### Games per categorie"
   ]
  },
  {
   "cell_type": "markdown",
   "metadata": {},
   "source": [
    "Seaborn ofers a lot of options to work with [categorical data](https://seaborn.pydata.org/tutorial/categorical.html#categorical-tutorial), and the [countplot](https://seaborn.pydata.org/generated/seaborn.countplot.html) is one of them. This grafic show the counts of observations in each categorical bin using bars."
   ]
  },
  {
   "cell_type": "code",
   "execution_count": 104,
   "metadata": {},
   "outputs": [
    {
     "data": {
      "image/png": "[encoded data removed]",
      "text/plain": [
       "<Figure size 648x360 with 1 Axes>"
      ]
     },
     "metadata": {
      "needs_background": "light"
     },
     "output_type": "display_data"
    }
   ],
   "source": [
    "sns.countplot(x=\"categories\", data = data_raw);"
   ]
  },
  {
   "cell_type": "markdown",
   "metadata": {},
   "source": [
    "We can see by this graphic that it´s overwhelming the amount of single player games in the Steam catalog."
   ]
  },
  {
   "cell_type": "markdown",
   "metadata": {},
   "source": [
    "### Games by categorie by release year"
   ]
  },
  {
   "cell_type": "markdown",
   "metadata": {},
   "source": [
    "Can it be that the release year has some relation to the amount of single player games, let´s assume that in the late 90 and 2000´s the internet was at its infancy and not so many multiplayer games were released"
   ]
  },
  {
   "cell_type": "code",
   "execution_count": 105,
   "metadata": {},
   "outputs": [
    {
     "data": {
      "image/png": "[encoded data removed]",
      "text/plain": [
       "<Figure size 1080x504 with 1 Axes>"
      ]
     },
     "metadata": {
      "needs_background": "light"
     },
     "output_type": "display_data"
    }
   ],
   "source": [
    "plt.figure(figsize=(15,7))\n",
    "ax = sns.countplot(x=\"release_year\",hue = \"categories\", data = data_raw)\n",
    "ax.set_xticklabels(ax.get_xticklabels(), rotation=40, ha=\"right\");"
   ]
  },
  {
   "cell_type": "markdown",
   "metadata": {},
   "source": [
    "It wasn’t a crazy supposition, but the graph speak by itself, most single player games, were released after 2015. But this graphic also show us that the rate of release of games with both single & multiplayer support, also increased, and the pure multiplayer games releases seams is also increasing"
   ]
  },
  {
   "cell_type": "markdown",
   "metadata": {},
   "source": [
    "### Average playtime per categorie vs Owners per categorie vs games per categorie"
   ]
  },
  {
   "cell_type": "markdown",
   "metadata": {},
   "source": [
    "Let´s take it a little further and compare the average playtime with how many owners and try to relate it and compare with the games per categorie in a single figure. Matplotlib provides a useful way to show different figures in one plot read more [here](https://matplotlib.org/stable/api/figure_api.html#matplotlib.figure.Figure.add_subplot) and [here](https://matplotlib.org/stable/api/figure_api.html#matplotlib.figure.Figure.add_subplot)"
   ]
  },
  {
   "cell_type": "code",
   "execution_count": 106,
   "metadata": {},
   "outputs": [
    {
     "data": {
      "text/plain": [
       "categories\n",
       "Single-player            20772\n",
       "Single & Multi-player     4906\n",
       "Multi-player              1205\n",
       "No categorie               192\n",
       "Name: name, dtype: int64"
      ]
     },
     "execution_count": 106,
     "metadata": {},
     "output_type": "execute_result"
    }
   ],
   "source": [
    "games_categorie = data_raw.groupby(data_raw.categories).count()[\"name\"].copy()\n",
    "games_categorie.sort_values(ascending = False, inplace = True)\n",
    "games_categorie"
   ]
  },
  {
   "cell_type": "code",
   "execution_count": 107,
   "metadata": {},
   "outputs": [
    {
     "data": {
      "image/png": "[encoded data removed]",
      "text/plain": [
       "<Figure size 1440x360 with 3 Axes>"
      ]
     },
     "metadata": {
      "needs_background": "light"
     },
     "output_type": "display_data"
    }
   ],
   "source": [
    "fig = plt.figure(figsize=(20,5))\n",
    "fig.subplots_adjust(wspace=0.5)\n",
    "\n",
    "ax = fig.add_subplot(1, 3, 1)\n",
    "sns.barplot(x= \"categories\", y = \"average_playtime\",data=data_raw,ax = ax)\n",
    "ax.set_xticklabels(ax.get_xticklabels(), rotation=45)\n",
    "ax.set_title(\"Average Playtime per categorie\")\n",
    "\n",
    "ax = fig.add_subplot(1, 3, 2)\n",
    "sns.barplot(x= \"categories\", y = \"midpoint_range_owners\",data=data_raw,ax = ax)\n",
    "ax.set_xticklabels(ax.get_xticklabels(), rotation=45)\n",
    "ax.set_title(\"Average owner per categorie\")\n",
    "\n",
    "ax = fig.add_subplot(1, 3, 3)\n",
    "plt.pie(games_categorie,labels=games_categorie.index.tolist(),autopct=\"%1.1f%%\",colors=[\"tab:green\",\n",
    "                                                                                        \"tab:orange\",\n",
    "                                                                                        \"tab:blue\",\n",
    "                                                                                        \"tab:red\"])\n",
    "ax.set_title(\"Games per categorie\")\n",
    "plt.show()"
   ]
  },
  {
   "cell_type": "markdown",
   "metadata": {},
   "source": [
    "From a single plot we combine two [barplot](https://seaborn.pydata.org/generated/seaborn.barplot.html#seaborn.barplot) and one [pie chart](https://matplotlib.org/stable/api/_as_gen/matplotlib.pyplot.pie.html) to pick up several useful insights, even though that almost 80% of games in the steam catalog are pure single player, in average, multiplayer games have the most playtime register(even taking in to account the error show by the line in the bar plot), and they are owned by more people than games in other categories.\n",
    "\n",
    "This can point to the fact that multiplayer games have what in the game industry is called re playability, and also that we as human beings are extremely social and we use games as a tool to socialize. A bold statement that needs to be studied more"
   ]
  },
  {
   "cell_type": "markdown",
   "metadata": {},
   "source": [
    "### Categorie and OS"
   ]
  },
  {
   "cell_type": "markdown",
   "metadata": {},
   "source": [
    "Let's take a look into how many titles were released for each of the operating system (OS) by categorie."
   ]
  },
  {
   "cell_type": "code",
   "execution_count": 108,
   "metadata": {},
   "outputs": [
    {
     "data": {
      "image/png": "[encoded data removed]",
      "text/plain": [
       "<Figure size 648x360 with 1 Axes>"
      ]
     },
     "metadata": {
      "needs_background": "light"
     },
     "output_type": "display_data"
    }
   ],
   "source": [
    "sns.countplot(x=\"categories\",hue = \"platforms\", data = data_raw);"
   ]
  },
  {
   "cell_type": "markdown",
   "metadata": {},
   "source": [
    "We can see that in every single category, most of the game are released for windows, and in second place, for all tree mayor OS (windows, mac and linux)."
   ]
  },
  {
   "cell_type": "markdown",
   "metadata": {},
   "source": [
    "### Games Prices"
   ]
  },
  {
   "cell_type": "markdown",
   "metadata": {},
   "source": [
    "a quick look into the prices"
   ]
  },
  {
   "cell_type": "code",
   "execution_count": 109,
   "metadata": {},
   "outputs": [
    {
     "data": {
      "text/plain": [
       "count    27075.000000\n",
       "mean         6.078193\n",
       "std          7.874922\n",
       "min          0.000000\n",
       "25%          1.690000\n",
       "50%          3.990000\n",
       "75%          7.190000\n",
       "max        421.990000\n",
       "Name: price, dtype: float64"
      ]
     },
     "execution_count": 109,
     "metadata": {},
     "output_type": "execute_result"
    }
   ],
   "source": [
    "data_raw.price.describe()"
   ]
  },
  {
   "cell_type": "markdown",
   "metadata": {},
   "source": [
    "From the describe method, now we have a better grasp of the distribution for games prices (in GBP). The mean is 6.07 pounds, with a high standard deviation of 7.87 pounds.\n",
    "\n",
    "Let´s take a look of the histogram for the 75% of the data using the matplotlib [hist](https://matplotlib.org/stable/api/_as_gen/matplotlib.pyplot.hist.html)"
   ]
  },
  {
   "cell_type": "code",
   "execution_count": 110,
   "metadata": {},
   "outputs": [
    {
     "data": {
      "image/png": "[encoded data removed]",
      "text/plain": [
       "<Figure size 720x360 with 1 Axes>"
      ]
     },
     "metadata": {
      "needs_background": "light"
     },
     "output_type": "display_data"
    }
   ],
   "source": [
    "plt.figure(figsize=(10, 5))\n",
    "plt.title(\"Price Distribution of games\")\n",
    "plt.xlabel(\"Price in GBP\")\n",
    "plt.ylabel(\"Number of games\")\n",
    "\n",
    "plt.hist(data_raw.price, bins=np.arange(data_raw.price.quantile(0.0),data_raw.price.quantile(0.75),1), color=\"tab:blue\");"
   ]
  },
  {
   "cell_type": "markdown",
   "metadata": {},
   "source": [
    "75% percent of the games are priced below 7 pounds, and a good chunk of them more than 5000 games, have a price lower than 1 pound."
   ]
  },
  {
   "cell_type": "markdown",
   "metadata": {},
   "source": [
    "Let us save and upload our work to Jovian before continuing"
   ]
  },
  {
   "cell_type": "code",
   "execution_count": 111,
   "metadata": {},
   "outputs": [],
   "source": [
    "import jovian"
   ]
  },
  {
   "cell_type": "code",
   "execution_count": 112,
   "metadata": {},
   "outputs": [
    {
     "data": {
      "application/javascript": [
       "window.require && require([\"base/js/namespace\"],function(Jupyter){Jupyter.notebook.save_checkpoint()})"
      ],
      "text/plain": [
       "<IPython.core.display.Javascript object>"
      ]
     },
     "metadata": {},
     "output_type": "display_data"
    },
    {
     "name": "stdout",
     "output_type": "stream",
     "text": [
      "[jovian] Attempting to save notebook..\u001b[0m\n",
      "[jovian] Updating notebook \"carloscuepuente/zerotopandas-course-project-steam-catalog-analysis\" on https://jovian.ai\u001b[0m\n",
      "[jovian] Uploading notebook..\u001b[0m\n",
      "[jovian] Uploading additional files...\u001b[0m\n",
      "[jovian] Committed successfully! https://jovian.ai/carloscuepuente/zerotopandas-course-project-steam-catalog-analysis\u001b[0m\n"
     ]
    },
    {
     "data": {
      "text/plain": [
       "'https://jovian.ai/carloscuepuente/zerotopandas-course-project-steam-catalog-analysis'"
      ]
     },
     "execution_count": 112,
     "metadata": {},
     "output_type": "execute_result"
    }
   ],
   "source": [
    "jovian.commit()"
   ]
  },
  {
   "cell_type": "markdown",
   "metadata": {},
   "source": [
    "## Asking and Answering Questions\n",
    "\n",
    "Now that we have a general understanding of the dataset, let's ask a few questions about it"
   ]
  },
  {
   "cell_type": "markdown",
   "metadata": {},
   "source": [
    "#### Q1: Single out the games that have both high positive and negative ratings"
   ]
  },
  {
   "cell_type": "code",
   "execution_count": 113,
   "metadata": {},
   "outputs": [
    {
     "data": {
      "image/png": "[encoded data removed]",
      "text/plain": [
       "<Figure size 648x360 with 1 Axes>"
      ]
     },
     "metadata": {
      "needs_background": "light"
     },
     "output_type": "display_data"
    }
   ],
   "source": [
    "sns.scatterplot(x=\"positive_ratings\", y=\"negative_ratings\", hue=\"categories\", data=data_raw)\n",
    "plt.xlabel(\"positive_ratings\")\n",
    "plt.ylabel(\"negative_ratings\");"
   ]
  },
  {
   "cell_type": "code",
   "execution_count": 114,
   "metadata": {},
   "outputs": [
    {
     "data": {
      "text/html": [
       "<div>\n",
       "<style scoped>\n",
       "    .dataframe tbody tr th:only-of-type {\n",
       "        vertical-align: middle;\n",
       "    }\n",
       "\n",
       "    .dataframe tbody tr th {\n",
       "        vertical-align: top;\n",
       "    }\n",
       "\n",
       "    .dataframe thead th {\n",
       "        text-align: right;\n",
       "    }\n",
       "</style>\n",
       "<table border=\"1\" class=\"dataframe\">\n",
       "  <thead>\n",
       "    <tr style=\"text-align: right;\">\n",
       "      <th></th>\n",
       "      <th>name</th>\n",
       "      <th>categories</th>\n",
       "      <th>positive_ratings</th>\n",
       "      <th>negative_ratings</th>\n",
       "      <th>midpoint_range_owners</th>\n",
       "    </tr>\n",
       "    <tr>\n",
       "      <th>appid</th>\n",
       "      <th></th>\n",
       "      <th></th>\n",
       "      <th></th>\n",
       "      <th></th>\n",
       "      <th></th>\n",
       "    </tr>\n",
       "  </thead>\n",
       "  <tbody>\n",
       "    <tr>\n",
       "      <th>570</th>\n",
       "      <td>Dota 2</td>\n",
       "      <td>Multi-player</td>\n",
       "      <td>863507</td>\n",
       "      <td>142079</td>\n",
       "      <td>150000000.0</td>\n",
       "    </tr>\n",
       "    <tr>\n",
       "      <th>730</th>\n",
       "      <td>Counter-Strike: Global Offensive</td>\n",
       "      <td>Multi-player</td>\n",
       "      <td>2644404</td>\n",
       "      <td>402313</td>\n",
       "      <td>75000000.0</td>\n",
       "    </tr>\n",
       "    <tr>\n",
       "      <th>578080</th>\n",
       "      <td>PLAYERUNKNOWN'S BATTLEGROUNDS</td>\n",
       "      <td>Multi-player</td>\n",
       "      <td>496184</td>\n",
       "      <td>487076</td>\n",
       "      <td>75000000.0</td>\n",
       "    </tr>\n",
       "  </tbody>\n",
       "</table>\n",
       "</div>"
      ],
      "text/plain": [
       "                                    name    categories  positive_ratings  \\\n",
       "appid                                                                      \n",
       "570                               Dota 2  Multi-player            863507   \n",
       "730     Counter-Strike: Global Offensive  Multi-player           2644404   \n",
       "578080     PLAYERUNKNOWN'S BATTLEGROUNDS  Multi-player            496184   \n",
       "\n",
       "        negative_ratings  midpoint_range_owners  \n",
       "appid                                            \n",
       "570               142079            150000000.0  \n",
       "730               402313             75000000.0  \n",
       "578080            487076             75000000.0  "
      ]
     },
     "execution_count": 114,
     "metadata": {},
     "output_type": "execute_result"
    }
   ],
   "source": [
    "love_hate_relationship = data_raw[(data_raw[\"positive_ratings\"] > 0.4*1e6) & (data_raw[\"negative_ratings\"] > 100_000)]\n",
    "love_hate_relationship[[\"name\",\"categories\",\"positive_ratings\",\"negative_ratings\",\"midpoint_range_owners\"]]"
   ]
  },
  {
   "cell_type": "markdown",
   "metadata": {},
   "source": [
    "Looks like these 3 multiplayer games either you love them or hate them..."
   ]
  },
  {
   "cell_type": "markdown",
   "metadata": {},
   "source": [
    "#### Q2: Top 10 games with the highest and lowest positive ratings ratio with more than 500,000 owners"
   ]
  },
  {
   "cell_type": "code",
   "execution_count": 115,
   "metadata": {},
   "outputs": [],
   "source": [
    "data_raw[\"positive_ratings_ratio\"] = (data_raw[\"positive_ratings\"] / (data_raw[\"positive_ratings\"] + data_raw[\"negative_ratings\"])) * 100"
   ]
  },
  {
   "cell_type": "code",
   "execution_count": 116,
   "metadata": {},
   "outputs": [
    {
     "data": {
      "text/html": [
       "<div>\n",
       "<style scoped>\n",
       "    .dataframe tbody tr th:only-of-type {\n",
       "        vertical-align: middle;\n",
       "    }\n",
       "\n",
       "    .dataframe tbody tr th {\n",
       "        vertical-align: top;\n",
       "    }\n",
       "\n",
       "    .dataframe thead th {\n",
       "        text-align: right;\n",
       "    }\n",
       "</style>\n",
       "<table border=\"1\" class=\"dataframe\">\n",
       "  <thead>\n",
       "    <tr style=\"text-align: right;\">\n",
       "      <th></th>\n",
       "      <th>name</th>\n",
       "      <th>categories</th>\n",
       "      <th>steamspy_tags</th>\n",
       "      <th>midpoint_range_owners</th>\n",
       "      <th>positive_ratings_ratio</th>\n",
       "    </tr>\n",
       "    <tr>\n",
       "      <th>appid</th>\n",
       "      <th></th>\n",
       "      <th></th>\n",
       "      <th></th>\n",
       "      <th></th>\n",
       "      <th></th>\n",
       "    </tr>\n",
       "  </thead>\n",
       "  <tbody>\n",
       "    <tr>\n",
       "      <th>620</th>\n",
       "      <td>Portal 2</td>\n",
       "      <td>Single-player</td>\n",
       "      <td>Puzzle</td>\n",
       "      <td>15000000.0</td>\n",
       "      <td>98.650356</td>\n",
       "    </tr>\n",
       "    <tr>\n",
       "      <th>427520</th>\n",
       "      <td>Factorio</td>\n",
       "      <td>Single &amp; Multi-player</td>\n",
       "      <td>Early Access</td>\n",
       "      <td>1500000.0</td>\n",
       "      <td>98.513600</td>\n",
       "    </tr>\n",
       "    <tr>\n",
       "      <th>264200</th>\n",
       "      <td>One Finger Death Punch</td>\n",
       "      <td>Single-player</td>\n",
       "      <td>Action</td>\n",
       "      <td>750000.0</td>\n",
       "      <td>98.226778</td>\n",
       "    </tr>\n",
       "    <tr>\n",
       "      <th>424280</th>\n",
       "      <td>Iron Snout</td>\n",
       "      <td>Single-player</td>\n",
       "      <td>Free to Play</td>\n",
       "      <td>1500000.0</td>\n",
       "      <td>98.044614</td>\n",
       "    </tr>\n",
       "    <tr>\n",
       "      <th>341800</th>\n",
       "      <td>Keep Talking and Nobody Explodes</td>\n",
       "      <td>Multi-player</td>\n",
       "      <td>Co-op</td>\n",
       "      <td>750000.0</td>\n",
       "      <td>98.037543</td>\n",
       "    </tr>\n",
       "    <tr>\n",
       "      <th>400</th>\n",
       "      <td>Portal</td>\n",
       "      <td>Single-player</td>\n",
       "      <td>Puzzle</td>\n",
       "      <td>15000000.0</td>\n",
       "      <td>97.957679</td>\n",
       "    </tr>\n",
       "    <tr>\n",
       "      <th>294100</th>\n",
       "      <td>RimWorld</td>\n",
       "      <td>Single-player</td>\n",
       "      <td>Base-Building</td>\n",
       "      <td>1500000.0</td>\n",
       "      <td>97.825591</td>\n",
       "    </tr>\n",
       "    <tr>\n",
       "      <th>351640</th>\n",
       "      <td>Eternal Senia</td>\n",
       "      <td>Single-player</td>\n",
       "      <td>Anime</td>\n",
       "      <td>750000.0</td>\n",
       "      <td>97.803155</td>\n",
       "    </tr>\n",
       "    <tr>\n",
       "      <th>292030</th>\n",
       "      <td>The Witcher® 3: Wild Hunt</td>\n",
       "      <td>Single-player</td>\n",
       "      <td>Open World</td>\n",
       "      <td>7500000.0</td>\n",
       "      <td>97.690249</td>\n",
       "    </tr>\n",
       "    <tr>\n",
       "      <th>250320</th>\n",
       "      <td>The Wolf Among Us</td>\n",
       "      <td>Single-player</td>\n",
       "      <td>Adventure</td>\n",
       "      <td>1500000.0</td>\n",
       "      <td>97.611347</td>\n",
       "    </tr>\n",
       "  </tbody>\n",
       "</table>\n",
       "</div>"
      ],
      "text/plain": [
       "                                    name             categories  \\\n",
       "appid                                                             \n",
       "620                             Portal 2          Single-player   \n",
       "427520                          Factorio  Single & Multi-player   \n",
       "264200            One Finger Death Punch          Single-player   \n",
       "424280                        Iron Snout          Single-player   \n",
       "341800  Keep Talking and Nobody Explodes           Multi-player   \n",
       "400                               Portal          Single-player   \n",
       "294100                          RimWorld          Single-player   \n",
       "351640                     Eternal Senia          Single-player   \n",
       "292030         The Witcher® 3: Wild Hunt          Single-player   \n",
       "250320                 The Wolf Among Us          Single-player   \n",
       "\n",
       "        steamspy_tags  midpoint_range_owners  positive_ratings_ratio  \n",
       "appid                                                                 \n",
       "620            Puzzle             15000000.0               98.650356  \n",
       "427520   Early Access              1500000.0               98.513600  \n",
       "264200         Action               750000.0               98.226778  \n",
       "424280   Free to Play              1500000.0               98.044614  \n",
       "341800          Co-op               750000.0               98.037543  \n",
       "400            Puzzle             15000000.0               97.957679  \n",
       "294100  Base-Building              1500000.0               97.825591  \n",
       "351640          Anime               750000.0               97.803155  \n",
       "292030     Open World              7500000.0               97.690249  \n",
       "250320      Adventure              1500000.0               97.611347  "
      ]
     },
     "execution_count": 116,
     "metadata": {},
     "output_type": "execute_result"
    }
   ],
   "source": [
    "top_10 = data_raw[data_raw[\"midpoint_range_owners\"]>500_000].sort_values(by=\"positive_ratings_ratio\",ascending=False).head(10)\n",
    "top_10[[\"name\",\"categories\",\"steamspy_tags\",\"midpoint_range_owners\",\"positive_ratings_ratio\"]]"
   ]
  },
  {
   "cell_type": "markdown",
   "metadata": {},
   "source": [
    "Seems like [The Witcher 3](https://store.steampowered.com/app/292030/The_Witcher_3_Wild_Hunt/?l=spanish), one of my favorite games, made it to the liderboard. And the only pure multiplayer game that made it was one that I never head of [Keep Talking and Nobody Explodes](https://store.steampowered.com/app/341800/Keep_Talking_and_Nobody_Explodes/), looks fun!"
   ]
  },
  {
   "cell_type": "code",
   "execution_count": 117,
   "metadata": {},
   "outputs": [
    {
     "data": {
      "text/html": [
       "<div>\n",
       "<style scoped>\n",
       "    .dataframe tbody tr th:only-of-type {\n",
       "        vertical-align: middle;\n",
       "    }\n",
       "\n",
       "    .dataframe tbody tr th {\n",
       "        vertical-align: top;\n",
       "    }\n",
       "\n",
       "    .dataframe thead th {\n",
       "        text-align: right;\n",
       "    }\n",
       "</style>\n",
       "<table border=\"1\" class=\"dataframe\">\n",
       "  <thead>\n",
       "    <tr style=\"text-align: right;\">\n",
       "      <th></th>\n",
       "      <th>name</th>\n",
       "      <th>categories</th>\n",
       "      <th>steamspy_tags</th>\n",
       "      <th>midpoint_range_owners</th>\n",
       "      <th>positive_ratings_ratio</th>\n",
       "    </tr>\n",
       "    <tr>\n",
       "      <th>appid</th>\n",
       "      <th></th>\n",
       "      <th></th>\n",
       "      <th></th>\n",
       "      <th></th>\n",
       "      <th></th>\n",
       "    </tr>\n",
       "  </thead>\n",
       "  <tbody>\n",
       "    <tr>\n",
       "      <th>822240</th>\n",
       "      <td>Animal Jam - Play Wild!</td>\n",
       "      <td>Multi-player</td>\n",
       "      <td>Early Access</td>\n",
       "      <td>750000.0</td>\n",
       "      <td>24.244221</td>\n",
       "    </tr>\n",
       "    <tr>\n",
       "      <th>730310</th>\n",
       "      <td>DYNASTY WARRIORS 9 真・三國無双８</td>\n",
       "      <td>Single &amp; Multi-player</td>\n",
       "      <td>Action</td>\n",
       "      <td>1500000.0</td>\n",
       "      <td>24.349108</td>\n",
       "    </tr>\n",
       "    <tr>\n",
       "      <th>345920</th>\n",
       "      <td>The Note</td>\n",
       "      <td>Single-player</td>\n",
       "      <td>Indie</td>\n",
       "      <td>750000.0</td>\n",
       "      <td>26.524390</td>\n",
       "    </tr>\n",
       "    <tr>\n",
       "      <th>577800</th>\n",
       "      <td>NBA 2K18</td>\n",
       "      <td>Single &amp; Multi-player</td>\n",
       "      <td>Sports</td>\n",
       "      <td>1500000.0</td>\n",
       "      <td>28.593408</td>\n",
       "    </tr>\n",
       "    <tr>\n",
       "      <th>47400</th>\n",
       "      <td>Stronghold 3 Gold</td>\n",
       "      <td>Single &amp; Multi-player</td>\n",
       "      <td>Strategy</td>\n",
       "      <td>750000.0</td>\n",
       "      <td>28.933254</td>\n",
       "    </tr>\n",
       "    <tr>\n",
       "      <th>258180</th>\n",
       "      <td>Deus Ex: The Fall</td>\n",
       "      <td>Single-player</td>\n",
       "      <td>Cyberpunk</td>\n",
       "      <td>750000.0</td>\n",
       "      <td>32.028470</td>\n",
       "    </tr>\n",
       "    <tr>\n",
       "      <th>834910</th>\n",
       "      <td>ATLAS</td>\n",
       "      <td>Multi-player</td>\n",
       "      <td>Early Access</td>\n",
       "      <td>1500000.0</td>\n",
       "      <td>34.511609</td>\n",
       "    </tr>\n",
       "    <tr>\n",
       "      <th>32420</th>\n",
       "      <td>STAR WARS™: The Clone Wars - Republic Heroes™</td>\n",
       "      <td>Single &amp; Multi-player</td>\n",
       "      <td>Action</td>\n",
       "      <td>750000.0</td>\n",
       "      <td>37.303371</td>\n",
       "    </tr>\n",
       "    <tr>\n",
       "      <th>335330</th>\n",
       "      <td>Brick-Force</td>\n",
       "      <td>Multi-player</td>\n",
       "      <td>Free to Play</td>\n",
       "      <td>750000.0</td>\n",
       "      <td>38.983051</td>\n",
       "    </tr>\n",
       "    <tr>\n",
       "      <th>267490</th>\n",
       "      <td>Batman™: Arkham Origins Blackgate - Deluxe Edi...</td>\n",
       "      <td>Single-player</td>\n",
       "      <td>Action</td>\n",
       "      <td>750000.0</td>\n",
       "      <td>39.110226</td>\n",
       "    </tr>\n",
       "  </tbody>\n",
       "</table>\n",
       "</div>"
      ],
      "text/plain": [
       "                                                     name  \\\n",
       "appid                                                       \n",
       "822240                            Animal Jam - Play Wild!   \n",
       "730310                         DYNASTY WARRIORS 9 真・三國無双８   \n",
       "345920                                           The Note   \n",
       "577800                                           NBA 2K18   \n",
       "47400                                   Stronghold 3 Gold   \n",
       "258180                                  Deus Ex: The Fall   \n",
       "834910                                              ATLAS   \n",
       "32420       STAR WARS™: The Clone Wars - Republic Heroes™   \n",
       "335330                                        Brick-Force   \n",
       "267490  Batman™: Arkham Origins Blackgate - Deluxe Edi...   \n",
       "\n",
       "                   categories steamspy_tags  midpoint_range_owners  \\\n",
       "appid                                                                \n",
       "822240           Multi-player  Early Access               750000.0   \n",
       "730310  Single & Multi-player        Action              1500000.0   \n",
       "345920          Single-player         Indie               750000.0   \n",
       "577800  Single & Multi-player        Sports              1500000.0   \n",
       "47400   Single & Multi-player      Strategy               750000.0   \n",
       "258180          Single-player     Cyberpunk               750000.0   \n",
       "834910           Multi-player  Early Access              1500000.0   \n",
       "32420   Single & Multi-player        Action               750000.0   \n",
       "335330           Multi-player  Free to Play               750000.0   \n",
       "267490          Single-player        Action               750000.0   \n",
       "\n",
       "        positive_ratings_ratio  \n",
       "appid                           \n",
       "822240               24.244221  \n",
       "730310               24.349108  \n",
       "345920               26.524390  \n",
       "577800               28.593408  \n",
       "47400                28.933254  \n",
       "258180               32.028470  \n",
       "834910               34.511609  \n",
       "32420                37.303371  \n",
       "335330               38.983051  \n",
       "267490               39.110226  "
      ]
     },
     "execution_count": 117,
     "metadata": {},
     "output_type": "execute_result"
    }
   ],
   "source": [
    "bottom_10 = data_raw[data_raw[\"midpoint_range_owners\"]>500_000].sort_values(by=\"positive_ratings_ratio\",ascending=True).head(10)\n",
    "bottom_10[[\"name\",\"categories\",\"steamspy_tags\",\"midpoint_range_owners\",\"positive_ratings_ratio\"]]"
   ]
  },
  {
   "cell_type": "markdown",
   "metadata": {},
   "source": [
    "[Animal Jam - Play Wild!](https://store.steampowered.com/app/822240/Animal_Jam/#app_reviews_hash) in mid-2019, was really poorly rated, but it seems that the developers took the feedback into account, because now it has some pretty good reviews"
   ]
  },
  {
   "cell_type": "markdown",
   "metadata": {},
   "source": [
    "Speaking of developers, let's make a leaderboard for the most proficient publishers and developers in game releases."
   ]
  },
  {
   "cell_type": "markdown",
   "metadata": {},
   "source": [
    "#### Q3: Top 10 developers and publishers"
   ]
  },
  {
   "cell_type": "code",
   "execution_count": 118,
   "metadata": {},
   "outputs": [],
   "source": [
    "top_developer = data_raw.developer.value_counts().head(10)"
   ]
  },
  {
   "cell_type": "code",
   "execution_count": 119,
   "metadata": {},
   "outputs": [
    {
     "data": {
      "text/plain": [
       "Text(0.5, 0, 'Games released')"
      ]
     },
     "execution_count": 119,
     "metadata": {},
     "output_type": "execute_result"
    },
    {
     "data": {
      "image/png": "[encoded data removed]",
      "text/plain": [
       "<Figure size 648x360 with 1 Axes>"
      ]
     },
     "metadata": {
      "needs_background": "light"
     },
     "output_type": "display_data"
    }
   ],
   "source": [
    "ax = top_developer.sort_values().plot.barh(x='developer')\n",
    "ax.set_xlabel(\"Games released\")"
   ]
  },
  {
   "cell_type": "code",
   "execution_count": 120,
   "metadata": {},
   "outputs": [],
   "source": [
    "top_publisher = data_raw.publisher.value_counts().head(10)"
   ]
  },
  {
   "cell_type": "code",
   "execution_count": 121,
   "metadata": {},
   "outputs": [
    {
     "data": {
      "image/png": "[encoded data removed]",
      "text/plain": [
       "<Figure size 648x360 with 1 Axes>"
      ]
     },
     "metadata": {
      "needs_background": "light"
     },
     "output_type": "display_data"
    }
   ],
   "source": [
    "ax = top_publisher.sort_values().plot.barh(x='publisher')\n",
    "ax.set_xlabel(\"Games released\");"
   ]
  },
  {
   "cell_type": "markdown",
   "metadata": {},
   "source": [
    "There seems to be a difference between the roles of developer and editor, if you are interested you can read this [article](https://gamingstreet.com/intro-to-the-industry-the-difference-between-game-developers-and-publishers/#:~:text=A%20game%20developer%20is%20the,a%20publisher%20to%20be%20monetized.&text=Meanwhile%2C%20a%20publisher%20is%20the,drive%20profitability%20of%20the%20product.)"
   ]
  },
  {
   "cell_type": "markdown",
   "metadata": {},
   "source": [
    "#### Q4: Same developer and publisher with more than 500,000 owners."
   ]
  },
  {
   "cell_type": "code",
   "execution_count": 122,
   "metadata": {},
   "outputs": [],
   "source": [
    "samedev_publi = data_raw[((data_raw[\"developer\"])==(data_raw[\"publisher\"])) & (data_raw[\"midpoint_range_owners\"]>500_000)]"
   ]
  },
  {
   "cell_type": "code",
   "execution_count": 123,
   "metadata": {},
   "outputs": [],
   "source": [
    "samedev_publi = samedev_publi.publisher.value_counts().head(10)"
   ]
  },
  {
   "cell_type": "code",
   "execution_count": 124,
   "metadata": {},
   "outputs": [
    {
     "data": {
      "image/png": "[encoded data removed]",
      "text/plain": [
       "<Figure size 648x360 with 1 Axes>"
      ]
     },
     "metadata": {
      "needs_background": "light"
     },
     "output_type": "display_data"
    }
   ],
   "source": [
    "ax = samedev_publi.sort_values().plot.barh(x='publisher')\n",
    "ax.set_xlabel(\"Games released\");"
   ]
  },
  {
   "cell_type": "markdown",
   "metadata": {},
   "source": [
    "[Valve](https://es.wikipedia.org/wiki/Valve_Corporation) is the company with more released games that sold more than 500000 copies in steam. Also looks like [capcom](https://en.wikipedia.org/wiki/Capcom) went through some name changes."
   ]
  },
  {
   "cell_type": "markdown",
   "metadata": {},
   "source": [
    "#### Q5: How games published on steam are distributed among categories, platforms and top 3 steamspy tags?"
   ]
  },
  {
   "cell_type": "code",
   "execution_count": 125,
   "metadata": {},
   "outputs": [
    {
     "data": {
      "text/plain": [
       "Action       5579\n",
       "Indie        4713\n",
       "Adventure    3176\n",
       "Name: steamspy_tags, dtype: int64"
      ]
     },
     "execution_count": 125,
     "metadata": {},
     "output_type": "execute_result"
    }
   ],
   "source": [
    "top_steamspy = data_raw.steamspy_tags.value_counts().head(3)\n",
    "top_steamspy"
   ]
  },
  {
   "cell_type": "code",
   "execution_count": 126,
   "metadata": {},
   "outputs": [
    {
     "data": {
      "text/plain": [
       "13468"
      ]
     },
     "execution_count": 126,
     "metadata": {},
     "output_type": "execute_result"
    }
   ],
   "source": [
    "top_steamspy.sum()"
   ]
  },
  {
   "cell_type": "code",
   "execution_count": 127,
   "metadata": {},
   "outputs": [
    {
     "data": {
      "text/plain": [
       "27075"
      ]
     },
     "execution_count": 127,
     "metadata": {},
     "output_type": "execute_result"
    }
   ],
   "source": [
    "data_raw.shape[0]"
   ]
  },
  {
   "cell_type": "code",
   "execution_count": 128,
   "metadata": {},
   "outputs": [
    {
     "data": {
      "image/png": "[encoded data removed]",
      "text/plain": [
       "<Figure size 648x360 with 1 Axes>"
      ]
     },
     "metadata": {
      "needs_background": "light"
     },
     "output_type": "display_data"
    }
   ],
   "source": [
    "ax = top_steamspy.sort_values().plot.barh(x='steamspy_tags')\n",
    "ax.set_xlabel(\"Games released\");"
   ]
  },
  {
   "cell_type": "code",
   "execution_count": 129,
   "metadata": {},
   "outputs": [],
   "source": [
    "top_tags = data_raw[(data_raw[\"steamspy_tags\"] == \"Action\") | \\\n",
    "            (data_raw[\"steamspy_tags\"] == \"Indie\") | \\\n",
    "            (data_raw[\"steamspy_tags\"] == \"Adventure\")]"
   ]
  },
  {
   "cell_type": "code",
   "execution_count": 130,
   "metadata": {},
   "outputs": [
    {
     "data": {
      "image/png": "[encoded data removed]",
      "text/plain": [
       "<Figure size 1696.53x504 with 3 Axes>"
      ]
     },
     "metadata": {
      "needs_background": "light"
     },
     "output_type": "display_data"
    }
   ],
   "source": [
    "top_tag_figure = sns.catplot(x=\"categories\", hue=\"platforms\", col=\"steamspy_tags\",\n",
    "                data=top_tags, kind=\"count\",\n",
    "                height=7, aspect=1);"
   ]
  },
  {
   "cell_type": "markdown",
   "metadata": {},
   "source": [
    "The top three steamspy tags are Action, Indie and Adventure, and the games, as expected, were mostly released only for the Windows platform. But an interesting fact is that, of the 27075 games, the top three steamspy tags (13468 games) account for almost 50% of the total number of games"
   ]
  },
  {
   "cell_type": "markdown",
   "metadata": {},
   "source": [
    "### a bonus fact"
   ]
  },
  {
   "cell_type": "markdown",
   "metadata": {},
   "source": [
    "The most expensive game in the catalog at the time the data was extracted was [ADR-Labelling Game](https://store.steampowered.com/app/821800/ADRLabelling_Game/) released in 2018, an error in the data or a professional tool?"
   ]
  },
  {
   "cell_type": "code",
   "execution_count": 131,
   "metadata": {},
   "outputs": [
    {
     "data": {
      "text/html": [
       "<div>\n",
       "<style scoped>\n",
       "    .dataframe tbody tr th:only-of-type {\n",
       "        vertical-align: middle;\n",
       "    }\n",
       "\n",
       "    .dataframe tbody tr th {\n",
       "        vertical-align: top;\n",
       "    }\n",
       "\n",
       "    .dataframe thead th {\n",
       "        text-align: right;\n",
       "    }\n",
       "</style>\n",
       "<table border=\"1\" class=\"dataframe\">\n",
       "  <thead>\n",
       "    <tr style=\"text-align: right;\">\n",
       "      <th></th>\n",
       "      <th>name</th>\n",
       "      <th>release_date</th>\n",
       "    </tr>\n",
       "    <tr>\n",
       "      <th>appid</th>\n",
       "      <th></th>\n",
       "      <th></th>\n",
       "    </tr>\n",
       "  </thead>\n",
       "  <tbody>\n",
       "    <tr>\n",
       "      <th>821800</th>\n",
       "      <td>ADR-Labelling Game</td>\n",
       "      <td>2018-04-12</td>\n",
       "    </tr>\n",
       "  </tbody>\n",
       "</table>\n",
       "</div>"
      ],
      "text/plain": [
       "                      name release_date\n",
       "appid                                  \n",
       "821800  ADR-Labelling Game   2018-04-12"
      ]
     },
     "execution_count": 131,
     "metadata": {},
     "output_type": "execute_result"
    }
   ],
   "source": [
    "data_raw[data_raw[\"price\"]==421.99][[\"name\",\"release_date\"]]"
   ]
  },
  {
   "cell_type": "markdown",
   "metadata": {},
   "source": [
    "Let us save and upload our work to Jovian before continuing."
   ]
  },
  {
   "cell_type": "code",
   "execution_count": 132,
   "metadata": {},
   "outputs": [],
   "source": [
    "import jovian"
   ]
  },
  {
   "cell_type": "code",
   "execution_count": 133,
   "metadata": {},
   "outputs": [
    {
     "data": {
      "application/javascript": [
       "window.require && require([\"base/js/namespace\"],function(Jupyter){Jupyter.notebook.save_checkpoint()})"
      ],
      "text/plain": [
       "<IPython.core.display.Javascript object>"
      ]
     },
     "metadata": {},
     "output_type": "display_data"
    },
    {
     "name": "stdout",
     "output_type": "stream",
     "text": [
      "[jovian] Attempting to save notebook..\u001b[0m\n",
      "[jovian] Updating notebook \"carloscuepuente/zerotopandas-course-project-steam-catalog-analysis\" on https://jovian.ai\u001b[0m\n",
      "[jovian] Uploading notebook..\u001b[0m\n",
      "[jovian] Uploading additional files...\u001b[0m\n",
      "[jovian] Committed successfully! https://jovian.ai/carloscuepuente/zerotopandas-course-project-steam-catalog-analysis\u001b[0m\n"
     ]
    },
    {
     "data": {
      "text/plain": [
       "'https://jovian.ai/carloscuepuente/zerotopandas-course-project-steam-catalog-analysis'"
      ]
     },
     "execution_count": 133,
     "metadata": {},
     "output_type": "execute_result"
    }
   ],
   "source": [
    "jovian.commit()"
   ]
  },
  {
   "cell_type": "markdown",
   "metadata": {},
   "source": [
    "## Inferences and Conclusion\n",
    "\n",
    "From my point of view, perhaps the biggest finding I can point out after analyzing the data, is that even though the steam catalog is full of single-player games, on average gamers spend more time playing multiplayer games. And that it appears that the rate of game releases on steam is increasing since 2014, which indicates that the video game industry is expanding. The categories with the most games are action, indie and adventure and that the games with the highest ratio of positive ratings are as varied as the type of players."
   ]
  },
  {
   "cell_type": "code",
   "execution_count": 134,
   "metadata": {},
   "outputs": [],
   "source": [
    "import jovian"
   ]
  },
  {
   "cell_type": "code",
   "execution_count": 135,
   "metadata": {},
   "outputs": [
    {
     "data": {
      "application/javascript": [
       "window.require && require([\"base/js/namespace\"],function(Jupyter){Jupyter.notebook.save_checkpoint()})"
      ],
      "text/plain": [
       "<IPython.core.display.Javascript object>"
      ]
     },
     "metadata": {},
     "output_type": "display_data"
    },
    {
     "name": "stdout",
     "output_type": "stream",
     "text": [
      "[jovian] Attempting to save notebook..\u001b[0m\n",
      "[jovian] Updating notebook \"carloscuepuente/zerotopandas-course-project-steam-catalog-analysis\" on https://jovian.ai\u001b[0m\n",
      "[jovian] Uploading notebook..\u001b[0m\n",
      "[jovian] Uploading additional files...\u001b[0m\n",
      "[jovian] Committed successfully! https://jovian.ai/carloscuepuente/zerotopandas-course-project-steam-catalog-analysis\u001b[0m\n"
     ]
    },
    {
     "data": {
      "text/plain": [
       "'https://jovian.ai/carloscuepuente/zerotopandas-course-project-steam-catalog-analysis'"
      ]
     },
     "execution_count": 135,
     "metadata": {},
     "output_type": "execute_result"
    }
   ],
   "source": [
    "jovian.commit()"
   ]
  },
  {
   "cell_type": "markdown",
   "metadata": {},
   "source": [
    "## References and Future Work\n",
    "\n",
    "I believe that this data set still offers numerous possibilities for data exploration, especially considering that I only used a few columns. Additionally, on the [kaggle page](https://www.kaggle.com/nikdavis/steam-store-games) there are other data sets that can be used to join with this one through the unique appid for each set.\n",
    "\n",
    "Other ideas for future projects are to implement a classification system through machine learning.\n",
    "\n",
    "links to useful resources:\n",
    "\n",
    "* https://stackoverflow.com/questions/50592048/get-frequency-table-from-multi-index-dates-in-pandas\n",
    "* https://pandas.pydata.org/docs/reference/api/pandas.DataFrame.unstack.html\n",
    "* https://stackoverflow.com/questions/52360977/how-to-arrrange-4-seaborn-plots-in-a-grid-python\n",
    "* https://stackoverflow.com/questions/22233488/pandas-drop-a-level-from-a-multi-level-column-index\n",
    "* https://realpython.com/python-data-cleaning-numpy-pandas/"
   ]
  },
  {
   "cell_type": "markdown",
   "metadata": {},
   "source": [
    "## Thanks to [Jovian](https://jovian.ai/learn/data-analysis-with-python-zero-to-pandas) for the course"
   ]
  },
  {
   "cell_type": "code",
   "execution_count": 136,
   "metadata": {},
   "outputs": [],
   "source": [
    "import jovian"
   ]
  },
  {
   "cell_type": "code",
   "execution_count": 137,
   "metadata": {
    "scrolled": true
   },
   "outputs": [
    {
     "data": {
      "application/javascript": [
       "window.require && require([\"base/js/namespace\"],function(Jupyter){Jupyter.notebook.save_checkpoint()})"
      ],
      "text/plain": [
       "<IPython.core.display.Javascript object>"
      ]
     },
     "metadata": {},
     "output_type": "display_data"
    },
    {
     "name": "stdout",
     "output_type": "stream",
     "text": [
      "[jovian] Attempting to save notebook..\u001b[0m\n",
      "[jovian] Updating notebook \"carloscuepuente/zerotopandas-course-project-steam-catalog-analysis\" on https://jovian.ai\u001b[0m\n",
      "[jovian] Uploading notebook..\u001b[0m\n",
      "[jovian] Uploading additional files...\u001b[0m\n",
      "[jovian] Committed successfully! https://jovian.ai/carloscuepuente/zerotopandas-course-project-steam-catalog-analysis\u001b[0m\n"
     ]
    },
    {
     "data": {
      "text/plain": [
       "'https://jovian.ai/carloscuepuente/zerotopandas-course-project-steam-catalog-analysis'"
      ]
     },
     "execution_count": 137,
     "metadata": {},
     "output_type": "execute_result"
    }
   ],
   "source": [
    "jovian.commit()"
   ]
  },
  {
   "cell_type": "code",
   "execution_count": null,
   "metadata": {},
   "outputs": [
    {
     "data": {
      "application/javascript": [
       "window.require && require([\"base/js/namespace\"],function(Jupyter){Jupyter.notebook.save_checkpoint()})"
      ],
      "text/plain": [
       "<IPython.core.display.Javascript object>"
      ]
     },
     "metadata": {},
     "output_type": "display_data"
    },
    {
     "name": "stdout",
     "output_type": "stream",
     "text": [
      "[jovian] Attempting to save notebook..\u001b[0m\n"
     ]
    }
   ],
   "source": [
    "jovian.submit(assignment=\"zero-to-pandas-project\")"
   ]
  },
  {
   "cell_type": "code",
   "execution_count": null,
   "metadata": {},
   "outputs": [],
   "source": []
  }
 ],
 "metadata": {
  "language_info": {
   "codemirror_mode": {
    "name": "ipython",
    "version": 3
   },
   "file_extension": ".py",
   "mimetype": "text/x-python",
   "name": "python",
   "nbconvert_exporter": "python",
   "pygments_lexer": "ipython3",
   "version": "3.8.6"
  }
 },
 "nbformat": 4,
 "nbformat_minor": 4
}